{
 "cells": [
  {
   "cell_type": "markdown",
   "metadata": {
    "slideshow": {
     "slide_type": "-"
    }
   },
   "source": [
    "# Let's make a a quiz? \n",
    "The homework is to create a quiz app. We will be basing it on the tutorial described in:  https://radiusofcircle.blogspot.com/2016/03/making-quiz-website-with-python.html\n",
    "\n",
    "The first step in our quiz app is make a quiz program that works without the web. Once we have a working quiz program, then we will package it as an app."
   ]
  },
  {
   "cell_type": "markdown",
   "metadata": {
    "slideshow": {
     "slide_type": "-"
    }
   },
   "source": [
    "# Let's start very very small - matching, 3 questions so we can test:\n",
    "1. What is the programming language used in this class? Python, Assembly, Java, Lisp\n",
    "2. How many homework assignments have been posted? 1, 3, 4, 2\n",
    "3. What day of the week is it? Monday, Wednesday, Friday, Sunday"
   ]
  },
  {
   "cell_type": "markdown",
   "metadata": {
    "slideshow": {
     "slide_type": "slide"
    }
   },
   "source": [
    "# What's a convenient way to encode the questions? Spreadsheet"
   ]
  },
  {
   "cell_type": "code",
   "execution_count": 20,
   "metadata": {},
   "outputs": [
    {
     "data": {
      "text/html": [
       "<div>\n",
       "<style scoped>\n",
       "    .dataframe tbody tr th:only-of-type {\n",
       "        vertical-align: middle;\n",
       "    }\n",
       "\n",
       "    .dataframe tbody tr th {\n",
       "        vertical-align: top;\n",
       "    }\n",
       "\n",
       "    .dataframe thead th {\n",
       "        text-align: right;\n",
       "    }\n",
       "</style>\n",
       "<table border=\"1\" class=\"dataframe\">\n",
       "  <thead>\n",
       "    <tr style=\"text-align: right;\">\n",
       "      <th></th>\n",
       "      <th>question</th>\n",
       "      <th>opt1</th>\n",
       "      <th>opt2</th>\n",
       "      <th>opt3</th>\n",
       "      <th>opt4</th>\n",
       "      <th>answer</th>\n",
       "    </tr>\n",
       "  </thead>\n",
       "  <tbody>\n",
       "    <tr>\n",
       "      <th>0</th>\n",
       "      <td>What is the programming language used in this ...</td>\n",
       "      <td>Python</td>\n",
       "      <td>Assembly</td>\n",
       "      <td>Java</td>\n",
       "      <td>Lisp</td>\n",
       "      <td>Python</td>\n",
       "    </tr>\n",
       "    <tr>\n",
       "      <th>1</th>\n",
       "      <td>How many homework assignments have been posted?</td>\n",
       "      <td>1</td>\n",
       "      <td>3</td>\n",
       "      <td>4</td>\n",
       "      <td>2</td>\n",
       "      <td>2</td>\n",
       "    </tr>\n",
       "    <tr>\n",
       "      <th>2</th>\n",
       "      <td>What day of the week is it?</td>\n",
       "      <td>Monday</td>\n",
       "      <td>Wednesday</td>\n",
       "      <td>Friday</td>\n",
       "      <td>Sunday</td>\n",
       "      <td>Friday</td>\n",
       "    </tr>\n",
       "  </tbody>\n",
       "</table>\n",
       "</div>"
      ],
      "text/plain": [
       "                                            question     opt1        opt2  \\\n",
       "0  What is the programming language used in this ...   Python    Assembly   \n",
       "1    How many homework assignments have been posted?        1           3   \n",
       "2                        What day of the week is it?   Monday   Wednesday   \n",
       "\n",
       "      opt3     opt4    answer  \n",
       "0     Java     Lisp    Python  \n",
       "1        4       2          2  \n",
       "2   Friday   Sunday   Friday   "
      ]
     },
     "execution_count": 20,
     "metadata": {},
     "output_type": "execute_result"
    }
   ],
   "source": [
    "import pandas as pd\n",
    "df = pd.read_csv('quizdata.csv')\n",
    "df"
   ]
  },
  {
   "cell_type": "markdown",
   "metadata": {
    "slideshow": {
     "slide_type": "slide"
    }
   },
   "source": [
    "# Quiz & Scorer Functions\n",
    "Let's write a quiz function that randomly selects a question, asks the user to choose an answer, and checks it against the correct answer. We start by using 1 question. \n",
    "\n",
    "Coding Notes:\n",
    "1. df.iloc[i] - get the integer location (row) of the dataframe"
   ]
  },
  {
   "cell_type": "code",
   "execution_count": 43,
   "metadata": {},
   "outputs": [
    {
     "data": {
      "text/plain": [
       "question    What is the programming language used in this ...\n",
       "opt1                                                   Python\n",
       "opt2                                                 Assembly\n",
       "opt3                                                     Java\n",
       "opt4                                                     Lisp\n",
       "answer                                                 Python\n",
       "Name: 0, dtype: object"
      ]
     },
     "execution_count": 43,
     "metadata": {},
     "output_type": "execute_result"
    }
   ],
   "source": [
    "df.iloc[0]"
   ]
  },
  {
   "cell_type": "markdown",
   "metadata": {
    "slideshow": {
     "slide_type": "slide"
    }
   },
   "source": [
    "2. 'opt1':'opt4' is Pandas syntax (code) to get all the columns that are next to each other. This syntax only works when we have a single row,"
   ]
  },
  {
   "cell_type": "code",
   "execution_count": 44,
   "metadata": {},
   "outputs": [
    {
     "data": {
      "text/plain": [
       "opt1       Python\n",
       "opt2     Assembly\n",
       "opt3         Java\n",
       "opt4         Lisp\n",
       "Name: 0, dtype: object"
      ]
     },
     "execution_count": 44,
     "metadata": {},
     "output_type": "execute_result"
    }
   ],
   "source": [
    "df.iloc[0]['opt1':'opt4']"
   ]
  },
  {
   "cell_type": "markdown",
   "metadata": {
    "slideshow": {
     "slide_type": "slide"
    }
   },
   "source": [
    "3. \" \".join combines the strings with a space. For example:"
   ]
  },
  {
   "cell_type": "code",
   "execution_count": 45,
   "metadata": {},
   "outputs": [
    {
     "data": {
      "text/plain": [
       "' Python  Assembly  Java   Lisp'"
      ]
     },
     "execution_count": 45,
     "metadata": {},
     "output_type": "execute_result"
    }
   ],
   "source": [
    "\" \".join(df.iloc[0]['opt1':'opt4'])"
   ]
  },
  {
   "cell_type": "markdown",
   "metadata": {
    "slideshow": {
     "slide_type": "slide"
    }
   },
   "source": [
    "4. Use .lower to make our question case insensitive\n"
   ]
  },
  {
   "cell_type": "code",
   "execution_count": 46,
   "metadata": {},
   "outputs": [
    {
     "data": {
      "text/plain": [
       "'python'"
      ]
     },
     "execution_count": 46,
     "metadata": {},
     "output_type": "execute_result"
    }
   ],
   "source": [
    "'Python'.lower()"
   ]
  },
  {
   "cell_type": "code",
   "execution_count": 47,
   "metadata": {
    "slideshow": {
     "slide_type": "slide"
    }
   },
   "outputs": [],
   "source": [
    "import random\n",
    "def quiz(questions):\n",
    "    print(questions['question'])\n",
    "    options = \" \".join(questions['opt1':'opt4'])\n",
    "    ans = input(f\"choose 1:{options}: \")\n",
    "    if ans.lower() == questions['answer'].lower():\n",
    "        return True\n",
    "    return False"
   ]
  },
  {
   "cell_type": "code",
   "execution_count": 56,
   "metadata": {},
   "outputs": [
    {
     "name": "stdout",
     "output_type": "stream",
     "text": [
      "What is the programming language used in this class?\n",
      "choose 1: Python  Assembly  Java   Lisp: lisp\n",
      "Right?: False\n"
     ]
    }
   ],
   "source": [
    "correct = quiz(df.iloc[0]) # this prints one question\n",
    "print(f'Right?: {correct}') #uses print formatting to substitute in the value of correct"
   ]
  },
  {
   "cell_type": "markdown",
   "metadata": {
    "slideshow": {
     "slide_type": "slide"
    }
   },
   "source": [
    "Since this is a quiz, we also want to shuffle the questions and answers on each round. Here we do so by randomly sampling all the rows from the data frame"
   ]
  },
  {
   "cell_type": "code",
   "execution_count": 33,
   "metadata": {},
   "outputs": [
    {
     "data": {
      "text/html": [
       "<div>\n",
       "<style scoped>\n",
       "    .dataframe tbody tr th:only-of-type {\n",
       "        vertical-align: middle;\n",
       "    }\n",
       "\n",
       "    .dataframe tbody tr th {\n",
       "        vertical-align: top;\n",
       "    }\n",
       "\n",
       "    .dataframe thead th {\n",
       "        text-align: right;\n",
       "    }\n",
       "</style>\n",
       "<table border=\"1\" class=\"dataframe\">\n",
       "  <thead>\n",
       "    <tr style=\"text-align: right;\">\n",
       "      <th></th>\n",
       "      <th>question</th>\n",
       "      <th>opt1</th>\n",
       "      <th>opt2</th>\n",
       "      <th>opt3</th>\n",
       "      <th>opt4</th>\n",
       "      <th>answer</th>\n",
       "    </tr>\n",
       "  </thead>\n",
       "  <tbody>\n",
       "    <tr>\n",
       "      <th>2</th>\n",
       "      <td>What day of the week is it?</td>\n",
       "      <td>Monday</td>\n",
       "      <td>Wednesday</td>\n",
       "      <td>Friday</td>\n",
       "      <td>Sunday</td>\n",
       "      <td>Friday</td>\n",
       "    </tr>\n",
       "    <tr>\n",
       "      <th>1</th>\n",
       "      <td>How many homework assignments have been posted?</td>\n",
       "      <td>1</td>\n",
       "      <td>3</td>\n",
       "      <td>4</td>\n",
       "      <td>2</td>\n",
       "      <td>2</td>\n",
       "    </tr>\n",
       "    <tr>\n",
       "      <th>0</th>\n",
       "      <td>What is the programming language used in this ...</td>\n",
       "      <td>Python</td>\n",
       "      <td>Assembly</td>\n",
       "      <td>Java</td>\n",
       "      <td>Lisp</td>\n",
       "      <td>Python</td>\n",
       "    </tr>\n",
       "  </tbody>\n",
       "</table>\n",
       "</div>"
      ],
      "text/plain": [
       "                                            question     opt1        opt2  \\\n",
       "2                        What day of the week is it?   Monday   Wednesday   \n",
       "1    How many homework assignments have been posted?        1           3   \n",
       "0  What is the programming language used in this ...   Python    Assembly   \n",
       "\n",
       "      opt3     opt4    answer  \n",
       "2   Friday   Sunday   Friday   \n",
       "1        4       2          2  \n",
       "0     Java     Lisp    Python  "
      ]
     },
     "execution_count": 33,
     "metadata": {},
     "output_type": "execute_result"
    }
   ],
   "source": [
    "df.sample(frac=1)"
   ]
  },
  {
   "cell_type": "markdown",
   "metadata": {},
   "source": [
    "We also want to shuffle the order of the questions. First let's loop over the questions user the `iterrows` method, which works like enumerate and gives the row and its location (idx)"
   ]
  },
  {
   "cell_type": "code",
   "execution_count": 80,
   "metadata": {},
   "outputs": [
    {
     "name": "stdout",
     "output_type": "stream",
     "text": [
      "question    How many homework assignments have been posted?\n",
      "opt1                                                      1\n",
      "opt2                                                      3\n",
      "opt3                                                      4\n",
      "opt4                                                     2 \n",
      "answer                                                    2\n",
      "Name: 1, dtype: object\n"
     ]
    }
   ],
   "source": [
    "for idx, row in df.sample(frac=1).iterrows():\n",
    "    print(row)\n",
    "    break # stops the loop after one iteration"
   ]
  },
  {
   "cell_type": "markdown",
   "metadata": {},
   "source": [
    "Row is similar to a dictionary, so we can access the elements using `row['column name']`"
   ]
  },
  {
   "cell_type": "code",
   "execution_count": 81,
   "metadata": {},
   "outputs": [
    {
     "name": "stdout",
     "output_type": "stream",
     "text": [
      "How many homework assignments have been posted?\n",
      "['1', ' 3', ' 4', ' 2 ']\n"
     ]
    }
   ],
   "source": [
    "for idx, row in df.sample(frac=1).iterrows():\n",
    "    print(row['question'])\n",
    "    print([row['opt1'], row['opt2'], row['opt3'], row['opt4']])\n",
    "    break"
   ]
  },
  {
   "cell_type": "markdown",
   "metadata": {},
   "source": [
    "Python's random library has a sample method that we can use on lists, like the options list here:"
   ]
  },
  {
   "cell_type": "code",
   "execution_count": 98,
   "metadata": {},
   "outputs": [
    {
     "name": "stdout",
     "output_type": "stream",
     "text": [
      "How many homework assignments have been posted?\n",
      "[' 4', ' 3', '1', ' 2 ']\n"
     ]
    }
   ],
   "source": [
    "import random\n",
    "for idx, row in df.sample(frac=1).iterrows():\n",
    "    print(row['question'])\n",
    "    options = random.sample([row['opt1'], row['opt2'], row['opt3'], row['opt4']],4)\n",
    "    print(options)\n",
    "    break"
   ]
  },
  {
   "cell_type": "markdown",
   "metadata": {},
   "source": [
    "Because want this quiz to work for multiple questions, let's write a new quiz function that incoporates shuffling and multiple questions into the existing quiz function. We'll also keep count of how many are correct instead of using true and false."
   ]
  },
  {
   "cell_type": "code",
   "execution_count": 30,
   "metadata": {},
   "outputs": [],
   "source": [
    "def quiz(questions):\n",
    "    correct = 0\n",
    "    \n",
    "    # keep a count of the answers\n",
    "    return correct"
   ]
  },
  {
   "cell_type": "markdown",
   "metadata": {
    "slideshow": {
     "slide_type": "slide"
    }
   },
   "source": [
    "# How do we make this an app?\n",
    "It's a form, which is a post request because we're updating data"
   ]
  },
  {
   "cell_type": "markdown",
   "metadata": {
    "slideshow": {
     "slide_type": "slide"
    }
   },
   "source": [
    "# We start with the template: how should this be displayed?"
   ]
  },
  {
   "cell_type": "markdown",
   "metadata": {
    "slideshow": {
     "slide_type": "slide"
    }
   },
   "source": [
    "\n",
    "```html\n",
    "<h1>Psych 31170 Quiz</h1>\n",
    "<form action='/grade' method='POST'>\n",
    "    <ol>\n",
    "        {% for q in questions %}\n",
    "            <li>{{q['question']}}</li>\n",
    "            {% for o in q['options'] %}\n",
    "                <input type='radio' value='{{o}}' name='{{loop.index }}'/>{{o}}\n",
    "            {% endfor %}\n",
    "        {% endfor %}\n",
    "    </ol>\n",
    "    <input type=\"submit\" value=\"submit\" />\n",
    "</form>\n",
    "```"
   ]
  },
  {
   "cell_type": "markdown",
   "metadata": {},
   "source": [
    "Save the above in a questions.html file"
   ]
  },
  {
   "cell_type": "markdown",
   "metadata": {},
   "source": [
    "Let's repackage the dataframe into a list of dicts that can be posted to the template"
   ]
  },
  {
   "cell_type": "code",
   "execution_count": 108,
   "metadata": {},
   "outputs": [],
   "source": [
    "import random\n",
    "questions = []\n",
    "for idx, row in df.sample(frac=1).iterrows():\n",
    "    q = dict()\n",
    "    q['question'] = row['question']\n",
    "    q['options'] = random.sample([row['opt1'], row['opt2'], row['opt3'], row['opt4']],4)\n",
    "    questions.append(q)"
   ]
  },
  {
   "cell_type": "code",
   "execution_count": 111,
   "metadata": {
    "slideshow": {
     "slide_type": "slide"
    }
   },
   "outputs": [
    {
     "name": "stdout",
     "output_type": "stream",
     "text": [
      "What is the programming language used in this class?\n",
      " Python\n",
      "  Lisp\n",
      " Assembly\n",
      " Java\n",
      "How many homework assignments have been posted?\n",
      " 4\n",
      "1\n",
      " 3\n",
      " 2 \n",
      "What day of the week is it?\n",
      " Sunday\n",
      " Friday\n",
      " Monday\n",
      " Wednesday\n"
     ]
    }
   ],
   "source": [
    "# what's that look like?\n",
    "for q in questions:\n",
    "    print(q['question'])\n",
    "    for o in q['options']:\n",
    "        print(o)"
   ]
  },
  {
   "cell_type": "markdown",
   "metadata": {
    "slideshow": {
     "slide_type": "slide"
    }
   },
   "source": [
    "The name attribute in the radio buttons keeps the group together, and the template code gets stored in a file called quiz.html in the templates folder. Here we name the group based on its location in the questions list using loop.index so that we can refer to the question again when evaluating if the answer is correct."
   ]
  },
  {
   "cell_type": "markdown",
   "metadata": {
    "slideshow": {
     "slide_type": "slide"
    }
   },
   "source": [
    "# How do we talk to our quiz?"
   ]
  },
  {
   "cell_type": "markdown",
   "metadata": {
    "slideshow": {
     "slide_type": "slide"
    }
   },
   "source": [
    "```python\n",
    "\n",
    "@app.route('/quiz')\n",
    "def quiz():\n",
    "    //insert your quiz code here\n",
    "    return render_template('questions.html', questions=questions)\n",
    "```"
   ]
  },
  {
   "cell_type": "code",
   "execution_count": 113,
   "metadata": {
    "slideshow": {
     "slide_type": "slide"
    }
   },
   "outputs": [
    {
     "data": {
      "text/plain": [
       "<IPython.core.display.HTML object>"
      ]
     },
     "execution_count": 113,
     "metadata": {},
     "output_type": "execute_result"
    }
   ],
   "source": [
    "from IPython.display import HTML\n",
    "HTML(\"http://127.0.0.1:5000/quiz\")"
   ]
  },
  {
   "cell_type": "markdown",
   "metadata": {
    "slideshow": {
     "slide_type": "slide"
    }
   },
   "source": [
    "# How do we check results? What happens on the submit?\n",
    "```\n",
    "<form action='/grade' method='POST'>\n",
    "```"
   ]
  },
  {
   "cell_type": "markdown",
   "metadata": {
    "slideshow": {
     "slide_type": "slide"
    }
   },
   "source": [
    "* request object - request->to form, response comes back\n",
    "* form is an attribute on quest that returns form[name] where name is identified in the form elements:\n",
    "```html\n",
    "     <input type='radio' value='{{o}}' name='{{loop.index }}'/>\n",
    "```\n",
    "```python\n",
    "@app.route('/grade', methods=['POST'])\n",
    "def quiz_answers():\n",
    " correct = 0\n",
    " for q in questions:\n",
    "    if q['answer'] == request.form[q['qid']]:\n",
    "        corr\n",
    "\n",
    " return '<h1>Correct Answers: <u>'+str(correct)+'</u></h1>'\n",
    "```"
   ]
  },
  {
   "cell_type": "code",
   "execution_count": null,
   "metadata": {},
   "outputs": [],
   "source": [
    "HTML(\"http://127.0.0.1:5000/quiz\")"
   ]
  },
  {
   "cell_type": "markdown",
   "metadata": {},
   "source": [
    "# Submission Requirements\n",
    "Take all the files required for this project and submit them as a .zip file\n",
    "1. Create your own list of questons-must have at least 10 and submit the spreadsheet\n",
    "2. Work through this notebook. You must submit this notebook with the quiz function implemented in it.\n",
    "3. Also submit a myapp folder containing the code for your app: \n",
    "  1. myapp.py -> Python file with working app code \n",
    "  2. template folder, containing 'questions.html'\n",
    "I should be able to run myapp.py and interact with it the way we have been interacting with the apps we've been writing in class in lecture 8 and 9. \n"
   ]
  },
  {
   "cell_type": "code",
   "execution_count": null,
   "metadata": {},
   "outputs": [],
   "source": []
  }
 ],
 "metadata": {
  "kernelspec": {
   "display_name": "Python 3",
   "language": "python",
   "name": "python3"
  },
  "language_info": {
   "codemirror_mode": {
    "name": "ipython",
    "version": 3
   },
   "file_extension": ".py",
   "mimetype": "text/x-python",
   "name": "python",
   "nbconvert_exporter": "python",
   "pygments_lexer": "ipython3",
   "version": "3.7.2"
  },
  "latex_envs": {
   "LaTeX_envs_menu_present": true,
   "autoclose": false,
   "autocomplete": true,
   "bibliofile": "biblio.bib",
   "cite_by": "apalike",
   "current_citInitial": 1,
   "eqLabelWithNumbers": true,
   "eqNumInitial": 1,
   "hotkeys": {
    "equation": "Ctrl-E",
    "itemize": "Ctrl-I"
   },
   "labels_anchors": false,
   "latex_user_defs": false,
   "report_style_numbering": false,
   "user_envs_cfg": false
  },
  "varInspector": {
   "cols": {
    "lenName": 16,
    "lenType": 16,
    "lenVar": 40
   },
   "kernels_config": {
    "python": {
     "delete_cmd_postfix": "",
     "delete_cmd_prefix": "del ",
     "library": "var_list.py",
     "varRefreshCmd": "print(var_dic_list())"
    },
    "r": {
     "delete_cmd_postfix": ") ",
     "delete_cmd_prefix": "rm(",
     "library": "var_list.r",
     "varRefreshCmd": "cat(var_dic_list()) "
    }
   },
   "position": {
    "height": "144.317px",
    "left": "1038px",
    "right": "20px",
    "top": "122px",
    "width": "350px"
   },
   "types_to_exclude": [
    "module",
    "function",
    "builtin_function_or_method",
    "instance",
    "_Feature"
   ],
   "window_display": false
  }
 },
 "nbformat": 4,
 "nbformat_minor": 2
}
