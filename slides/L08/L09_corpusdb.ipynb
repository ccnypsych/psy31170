{
 "cells": [
  {
   "cell_type": "markdown",
   "metadata": {
    "slideshow": {
     "slide_type": "slide"
    }
   },
   "source": [
    "# What if there is no (maintained) Python library?\n",
    "\n",
    "![corpus DB home page](figs/corpusdb.png)\n",
    "Corpus-DB - a textual corpus database for the digital humanities by  @j0_0n (Jonathan Reeve) - provides a small API at http://corpus-db.org/docs"
   ]
  },
  {
   "cell_type": "markdown",
   "metadata": {
    "slideshow": {
     "slide_type": "slide"
    }
   },
   "source": [
    "# Requests\n",
    "Since there's no Python library written especially for it, the general purpose library for talking to the internet is [requests](http://docs.python-requests.org/en/master/).\n",
    "```\n",
    "Kenny Meyers—\n",
    "    Python HTTP: When in doubt, or when not in doubt, use Requests. Beautiful, simple, Pythonic.\n",
    "```\n",
    "If you haven't installed it yet, [open a terminal](https://github.com/GCDigitalFellows/installdri.github.io/blob/master/anaconda.md) and type:\n",
    "```bash\n",
    "conda install requests -y\n",
    "```"
   ]
  },
  {
   "cell_type": "code",
   "execution_count": 1,
   "metadata": {
    "slideshow": {
     "slide_type": "slide"
    }
   },
   "outputs": [],
   "source": [
    "#let's import requests\n",
    "import requests"
   ]
  },
  {
   "cell_type": "markdown",
   "metadata": {
    "slideshow": {
     "slide_type": "slide"
    }
   },
   "source": [
    "# Some of the corpus db API: http://corpus-db.org/docs\n",
    "Get all the metadata for all books by a certain author.\n",
    "\n",
    "Handles Project Gutenberg authors, for now. Write name in the form Last, First.\n",
    "```http://corpus-db.org/api/author/<Last, First>```\n",
    "\n",
    "Example: get metadata for all books by Jane Austen.\n",
    "```http://corpus-db.org/api/author/Austen, Jane```\n",
    "Get the full text for all books by a certain author.\n",
    "\n",
    "Handles Project Gutenberg authors, for now. Write name in the form Last, First.\n",
    "```http://corpus-db.org/api/author/<Last, First>/fulltext```\n",
    "\n",
    "Example: get full text for all books by Jane Austen.\n",
    "```http://corpus-db.org/api/author/Austen, Jane/fulltext```"
   ]
  },
  {
   "cell_type": "code",
   "execution_count": 2,
   "metadata": {
    "slideshow": {
     "slide_type": "slide"
    }
   },
   "outputs": [],
   "source": [
    "#let's get all the books for jane austen\n",
    "r = requests.get(\"http://corpus-db.org/api/author/Austen, Jane\")"
   ]
  },
  {
   "cell_type": "code",
   "execution_count": 6,
   "metadata": {
    "slideshow": {
     "slide_type": "slide"
    }
   },
   "outputs": [
    {
     "data": {
      "text/plain": [
       "200"
      ]
     },
     "execution_count": 6,
     "metadata": {},
     "output_type": "execute_result"
    }
   ],
   "source": [
    "# what's in r?\n",
    "r.status_code"
   ]
  },
  {
   "cell_type": "code",
   "execution_count": 5,
   "metadata": {
    "slideshow": {
     "slide_type": "slide"
    }
   },
   "outputs": [],
   "source": [
    "# http://docs.python-requests.org/en/master/api/#requests.Response"
   ]
  },
  {
   "cell_type": "code",
   "execution_count": 7,
   "metadata": {
    "slideshow": {
     "slide_type": "slide"
    }
   },
   "outputs": [
    {
     "data": {
      "text/plain": [
       "'[{\"lcsh\":\"{\\'Love stories\\', \\'Psychological fiction\\', \\'Young women -- Fiction\\', \\'Dysfunctional families -- Fiction\\', \\'First loves -- Fiction\\', \\'Ship captains -- Fiction\\', \\'Regency fiction\\', \\'Rejection (Psychology) -- Fiction\\', \\'Motherless families -- Fiction\\', \\'England -- Social life and customs -- 19th century -- Fiction\\'}\",'"
      ]
     },
     "execution_count": 7,
     "metadata": {},
     "output_type": "execute_result"
    }
   ],
   "source": [
    "#200 means nothing broke, but what's in r? \n",
    "#here were' looking at the first 100 letters\n",
    "r.text[:325]"
   ]
  },
  {
   "cell_type": "code",
   "execution_count": 12,
   "metadata": {
    "slideshow": {
     "slide_type": "slide"
    }
   },
   "outputs": [
    {
     "data": {
      "text/plain": [
       "\"{'Love stories', 'Psychological fiction', 'Young women -- Fiction', 'Dysfunctional families -- Fiction', 'First loves -- Fiction', 'Ship captains -- Fiction', 'Regency fiction', 'Rejection (Psychology) -- Fiction', 'Motherless families -- Fiction', 'England -- Social life and customs -- 19th century -- Fiction'}\""
      ]
     },
     "execution_count": 12,
     "metadata": {},
     "output_type": "execute_result"
    }
   ],
   "source": [
    "#library of congress subject headings\n",
    "# there's also a json version of this response\n",
    "# json = more easily parsable\n",
    "r.json()[0]['lcsh']"
   ]
  },
  {
   "cell_type": "code",
   "execution_count": 13,
   "metadata": {
    "slideshow": {
     "slide_type": "slide"
    }
   },
   "outputs": [
    {
     "data": {
      "text/html": [
       "<div>\n",
       "<style scoped>\n",
       "    .dataframe tbody tr th:only-of-type {\n",
       "        vertical-align: middle;\n",
       "    }\n",
       "\n",
       "    .dataframe tbody tr th {\n",
       "        vertical-align: top;\n",
       "    }\n",
       "\n",
       "    .dataframe thead th {\n",
       "        text-align: right;\n",
       "    }\n",
       "</style>\n",
       "<table border=\"1\" class=\"dataframe\">\n",
       "  <thead>\n",
       "    <tr style=\"text-align: right;\">\n",
       "      <th></th>\n",
       "      <th></th>\n",
       "      <th>LCC</th>\n",
       "      <th>_repo</th>\n",
       "      <th>_version</th>\n",
       "      <th>alternative_title</th>\n",
       "      <th>author</th>\n",
       "      <th>authoryearofbirth</th>\n",
       "      <th>authoryearofdeath</th>\n",
       "      <th>contributor</th>\n",
       "      <th>covers</th>\n",
       "      <th>...</th>\n",
       "      <th>tableOfContents</th>\n",
       "      <th>title</th>\n",
       "      <th>titlepage_image</th>\n",
       "      <th>type</th>\n",
       "      <th>url</th>\n",
       "      <th>wikipedia</th>\n",
       "      <th>wp_info</th>\n",
       "      <th>wp_literary_genres</th>\n",
       "      <th>wp_publication_date</th>\n",
       "      <th>wp_subjects</th>\n",
       "    </tr>\n",
       "  </thead>\n",
       "  <tbody>\n",
       "    <tr>\n",
       "      <th>0</th>\n",
       "      <td>102</td>\n",
       "      <td>{'PR'}</td>\n",
       "      <td>Persuasion_105</td>\n",
       "      <td>0.2.0</td>\n",
       "      <td></td>\n",
       "      <td>Austen, Jane</td>\n",
       "      <td>1775</td>\n",
       "      <td>1817</td>\n",
       "      <td></td>\n",
       "      <td>[{'cover_type': 'archival', 'image_path': 'epu...</td>\n",
       "      <td>...</td>\n",
       "      <td></td>\n",
       "      <td>Persuasion</td>\n",
       "      <td></td>\n",
       "      <td>Text</td>\n",
       "      <td>http://www.gutenberg.org/ebooks/105</td>\n",
       "      <td>['https://fi.wikipedia.org/wiki/Viisasteleva_s...</td>\n",
       "      <td>{'http://www.w3.org/1999/02/22-rdf-syntax-ns#t...</td>\n",
       "      <td></td>\n",
       "      <td></td>\n",
       "      <td>['Novels_about_nobility', 'John_Murray_(publis...</td>\n",
       "    </tr>\n",
       "    <tr>\n",
       "      <th>1</th>\n",
       "      <td>116</td>\n",
       "      <td>{'PR'}</td>\n",
       "      <td>Northanger-Abbey_121</td>\n",
       "      <td>0.2.0</td>\n",
       "      <td></td>\n",
       "      <td>Austen, Jane</td>\n",
       "      <td>1775</td>\n",
       "      <td>1817</td>\n",
       "      <td></td>\n",
       "      <td>[{'cover_type': 'generated', 'image_path': 'co...</td>\n",
       "      <td>...</td>\n",
       "      <td></td>\n",
       "      <td>Northanger Abbey</td>\n",
       "      <td></td>\n",
       "      <td>Text</td>\n",
       "      <td>http://www.gutenberg.org/ebooks/121</td>\n",
       "      <td>['https://fi.wikipedia.org/wiki/Northanger_Abb...</td>\n",
       "      <td>{'http://www.w3.org/1999/02/22-rdf-syntax-ns#t...</td>\n",
       "      <td></td>\n",
       "      <td></td>\n",
       "      <td>['Novels_by_Jane_Austen', 'Novels_set_in_Somer...</td>\n",
       "    </tr>\n",
       "    <tr>\n",
       "      <th>2</th>\n",
       "      <td>134</td>\n",
       "      <td>{'PR'}</td>\n",
       "      <td>Mansfield-Park_141</td>\n",
       "      <td>0.2.0</td>\n",
       "      <td></td>\n",
       "      <td>Austen, Jane</td>\n",
       "      <td>1775</td>\n",
       "      <td>1817</td>\n",
       "      <td></td>\n",
       "      <td>[{'cover_type': 'generated', 'image_path': 'co...</td>\n",
       "      <td>...</td>\n",
       "      <td></td>\n",
       "      <td>Mansfield Park</td>\n",
       "      <td></td>\n",
       "      <td>Text</td>\n",
       "      <td>http://www.gutenberg.org/ebooks/141</td>\n",
       "      <td>['https://fi.wikipedia.org/wiki/Kasvattityt%C3...</td>\n",
       "      <td>{'http://www.w3.org/1999/02/22-rdf-syntax-ns#t...</td>\n",
       "      <td></td>\n",
       "      <td></td>\n",
       "      <td>['Novels_by_Jane_Austen', 'British_novels_adap...</td>\n",
       "    </tr>\n",
       "    <tr>\n",
       "      <th>3</th>\n",
       "      <td>151</td>\n",
       "      <td>{'PR'}</td>\n",
       "      <td>Emma_158</td>\n",
       "      <td>0.2.0</td>\n",
       "      <td></td>\n",
       "      <td>Austen, Jane</td>\n",
       "      <td>1775</td>\n",
       "      <td>1817</td>\n",
       "      <td></td>\n",
       "      <td>[{'cover_type': 'generated', 'image_path': 'co...</td>\n",
       "      <td>...</td>\n",
       "      <td></td>\n",
       "      <td>Emma</td>\n",
       "      <td></td>\n",
       "      <td>Text</td>\n",
       "      <td>http://www.gutenberg.org/ebooks/158</td>\n",
       "      <td>['https://fi.wikipedia.org/wiki/Emma_(romaani)...</td>\n",
       "      <td>{'http://www.w3.org/1999/02/22-rdf-syntax-ns#t...</td>\n",
       "      <td>['Novel_of_manners']</td>\n",
       "      <td></td>\n",
       "      <td>['Novels_by_Jane_Austen', 'Novels_about_nobili...</td>\n",
       "    </tr>\n",
       "    <tr>\n",
       "      <th>4</th>\n",
       "      <td>154</td>\n",
       "      <td>{'PR'}</td>\n",
       "      <td>Sense-and-Sensibility_161</td>\n",
       "      <td>0.2.0</td>\n",
       "      <td></td>\n",
       "      <td>Austen, Jane</td>\n",
       "      <td>1775</td>\n",
       "      <td>1817</td>\n",
       "      <td></td>\n",
       "      <td>[{'cover_type': 'generated', 'image_path': 'co...</td>\n",
       "      <td>...</td>\n",
       "      <td></td>\n",
       "      <td>Sense and Sensibility</td>\n",
       "      <td></td>\n",
       "      <td>Text</td>\n",
       "      <td>http://www.gutenberg.org/ebooks/161</td>\n",
       "      <td>['https://fi.wikipedia.org/wiki/J%C3%A4rki_ja_...</td>\n",
       "      <td>{'http://www.w3.org/1999/02/22-rdf-syntax-ns#t...</td>\n",
       "      <td></td>\n",
       "      <td></td>\n",
       "      <td>['Debut_novels', 'Novels_by_Jane_Austen', 'Wor...</td>\n",
       "    </tr>\n",
       "  </tbody>\n",
       "</table>\n",
       "<p>5 rows × 46 columns</p>\n",
       "</div>"
      ],
      "text/plain": [
       "           LCC                      _repo _version alternative_title  \\\n",
       "0  102  {'PR'}             Persuasion_105    0.2.0                     \n",
       "1  116  {'PR'}       Northanger-Abbey_121    0.2.0                     \n",
       "2  134  {'PR'}         Mansfield-Park_141    0.2.0                     \n",
       "3  151  {'PR'}                   Emma_158    0.2.0                     \n",
       "4  154  {'PR'}  Sense-and-Sensibility_161    0.2.0                     \n",
       "\n",
       "         author authoryearofbirth authoryearofdeath contributor  \\\n",
       "0  Austen, Jane              1775              1817               \n",
       "1  Austen, Jane              1775              1817               \n",
       "2  Austen, Jane              1775              1817               \n",
       "3  Austen, Jane              1775              1817               \n",
       "4  Austen, Jane              1775              1817               \n",
       "\n",
       "                                              covers  ... tableOfContents  \\\n",
       "0  [{'cover_type': 'archival', 'image_path': 'epu...  ...                   \n",
       "1  [{'cover_type': 'generated', 'image_path': 'co...  ...                   \n",
       "2  [{'cover_type': 'generated', 'image_path': 'co...  ...                   \n",
       "3  [{'cover_type': 'generated', 'image_path': 'co...  ...                   \n",
       "4  [{'cover_type': 'generated', 'image_path': 'co...  ...                   \n",
       "\n",
       "                   title titlepage_image  type  \\\n",
       "0             Persuasion                  Text   \n",
       "1       Northanger Abbey                  Text   \n",
       "2         Mansfield Park                  Text   \n",
       "3                   Emma                  Text   \n",
       "4  Sense and Sensibility                  Text   \n",
       "\n",
       "                                   url  \\\n",
       "0  http://www.gutenberg.org/ebooks/105   \n",
       "1  http://www.gutenberg.org/ebooks/121   \n",
       "2  http://www.gutenberg.org/ebooks/141   \n",
       "3  http://www.gutenberg.org/ebooks/158   \n",
       "4  http://www.gutenberg.org/ebooks/161   \n",
       "\n",
       "                                           wikipedia  \\\n",
       "0  ['https://fi.wikipedia.org/wiki/Viisasteleva_s...   \n",
       "1  ['https://fi.wikipedia.org/wiki/Northanger_Abb...   \n",
       "2  ['https://fi.wikipedia.org/wiki/Kasvattityt%C3...   \n",
       "3  ['https://fi.wikipedia.org/wiki/Emma_(romaani)...   \n",
       "4  ['https://fi.wikipedia.org/wiki/J%C3%A4rki_ja_...   \n",
       "\n",
       "                                             wp_info    wp_literary_genres  \\\n",
       "0  {'http://www.w3.org/1999/02/22-rdf-syntax-ns#t...                         \n",
       "1  {'http://www.w3.org/1999/02/22-rdf-syntax-ns#t...                         \n",
       "2  {'http://www.w3.org/1999/02/22-rdf-syntax-ns#t...                         \n",
       "3  {'http://www.w3.org/1999/02/22-rdf-syntax-ns#t...  ['Novel_of_manners']   \n",
       "4  {'http://www.w3.org/1999/02/22-rdf-syntax-ns#t...                         \n",
       "\n",
       "  wp_publication_date                                        wp_subjects  \n",
       "0                      ['Novels_about_nobility', 'John_Murray_(publis...  \n",
       "1                      ['Novels_by_Jane_Austen', 'Novels_set_in_Somer...  \n",
       "2                      ['Novels_by_Jane_Austen', 'British_novels_adap...  \n",
       "3                      ['Novels_by_Jane_Austen', 'Novels_about_nobili...  \n",
       "4                      ['Debut_novels', 'Novels_by_Jane_Austen', 'Wor...  \n",
       "\n",
       "[5 rows x 46 columns]"
      ]
     },
     "execution_count": 13,
     "metadata": {},
     "output_type": "execute_result"
    }
   ],
   "source": [
    "#lets use pandas dor a quick view\n",
    "import pandas as pd\n",
    "meta = pd.io.json.json_normalize(r.json())\n",
    "meta.head()"
   ]
  },
  {
   "cell_type": "code",
   "execution_count": 14,
   "metadata": {},
   "outputs": [],
   "source": [
    "#but it's a corpus? \n",
    "r = requests.get(\"http://corpus-db.org/api/author/Austen, Jane/fulltext\")"
   ]
  },
  {
   "cell_type": "code",
   "execution_count": 15,
   "metadata": {},
   "outputs": [
    {
     "data": {
      "text/html": [
       "<div>\n",
       "<style scoped>\n",
       "    .dataframe tbody tr th:only-of-type {\n",
       "        vertical-align: middle;\n",
       "    }\n",
       "\n",
       "    .dataframe tbody tr th {\n",
       "        vertical-align: top;\n",
       "    }\n",
       "\n",
       "    .dataframe thead th {\n",
       "        text-align: right;\n",
       "    }\n",
       "</style>\n",
       "<table border=\"1\" class=\"dataframe\">\n",
       "  <thead>\n",
       "    <tr style=\"text-align: right;\">\n",
       "      <th></th>\n",
       "      <th>id</th>\n",
       "      <th>text</th>\n",
       "    </tr>\n",
       "  </thead>\n",
       "  <tbody>\n",
       "    <tr>\n",
       "      <th>0</th>\n",
       "      <td>105</td>\n",
       "      <td>by Al Haines.\\n\\n\\n\\n\\n\\n\\n\\n\\n\\n\\nPersuasion\\...</td>\n",
       "    </tr>\n",
       "    <tr>\n",
       "      <th>1</th>\n",
       "      <td>121</td>\n",
       "      <td>\\n\\n\\n\\n\\nNORTHANGER ABBEY\\n\\n\\nby\\n\\nJane Aus...</td>\n",
       "    </tr>\n",
       "    <tr>\n",
       "      <th>2</th>\n",
       "      <td>141</td>\n",
       "      <td>\\n\\n\\n\\n\\nMANSFIELD PARK\\n\\n(1814)\\n\\n\\nBy Jan...</td>\n",
       "    </tr>\n",
       "    <tr>\n",
       "      <th>3</th>\n",
       "      <td>158</td>\n",
       "      <td>\\n\\n\\n\\n\\nEMMA\\n\\nBy Jane Austen\\n\\n\\n\\n\\nVOLU...</td>\n",
       "    </tr>\n",
       "    <tr>\n",
       "      <th>4</th>\n",
       "      <td>161</td>\n",
       "      <td>\\nSpecial thanks are due to Sharon Partridge f...</td>\n",
       "    </tr>\n",
       "  </tbody>\n",
       "</table>\n",
       "</div>"
      ],
      "text/plain": [
       "    id                                               text\n",
       "0  105  by Al Haines.\\n\\n\\n\\n\\n\\n\\n\\n\\n\\n\\nPersuasion\\...\n",
       "1  121  \\n\\n\\n\\n\\nNORTHANGER ABBEY\\n\\n\\nby\\n\\nJane Aus...\n",
       "2  141  \\n\\n\\n\\n\\nMANSFIELD PARK\\n\\n(1814)\\n\\n\\nBy Jan...\n",
       "3  158  \\n\\n\\n\\n\\nEMMA\\n\\nBy Jane Austen\\n\\n\\n\\n\\nVOLU...\n",
       "4  161  \\nSpecial thanks are due to Sharon Partridge f..."
      ]
     },
     "execution_count": 15,
     "metadata": {},
     "output_type": "execute_result"
    }
   ],
   "source": [
    "fulltext = pd.io.json.json_normalize(r.json())\n",
    "fulltext.head()"
   ]
  },
  {
   "cell_type": "code",
   "execution_count": 16,
   "metadata": {},
   "outputs": [
    {
     "data": {
      "text/plain": [
       "0     by Al Haines.\\n\\n\\n\\n\\n\\n\\n\\n\\n\\n\\nPersuasion\\...\n",
       "1     NORTHANGER ABBEY\\n\\n\\nby\\n\\nJane Austen (1803)...\n",
       "2     MANSFIELD PARK\\n\\n(1814)\\n\\n\\nBy Jane Austen\\n...\n",
       "3     EMMA\\n\\nBy Jane Austen\\n\\n\\n\\n\\nVOLUME I\\n\\n\\n...\n",
       "4     Special thanks are due to Sharon Partridge for...\n",
       "5     LADY SUSAN\\n\\nby Jane Austen\\n\\n\\n\\n\\nI\\n\\n\\nL...\n",
       "6     LOVE AND FREINDSHIP AND OTHER EARLY WORKS\\n\\n(...\n",
       "7     PRIDE AND PREJUDICE\\n\\nBy Jane Austen\\n\\n\\n\\nC...\n",
       "8                              Transcriber's Note:\\n...\n",
       "9     Online Distributed Proofreading Team at http:/...\n",
       "10    THE WORKS OF JANE AUSTEN\\n\\n\\n\\nEdited by Davi...\n",
       "11       Note de transcription:\\n   Les erreurs clai...\n",
       "12      Au lecteur\\n\\n  Madame de Montolieu a tradui...\n",
       "13      Au lecteur\\n\\n  Madame de Montolieu a tradui...\n",
       "14      Au lecteur\\n\\n  Cette version électronique r...\n",
       "15    produced from scanned images of public domain ...\n",
       "16      Au lecteur\\n\\n  Madame de Montolieu a tradui...\n",
       "17    [Transcriber's Note: letters that were supersc...\n",
       "18    generously made available by Internet Archive ...\n",
       "19    YLPEYS JA ENNAKKOLUULO\\n\\nKirj.\\n\\nJane Austen...\n",
       "Name: text, dtype: object"
      ]
     },
     "execution_count": 16,
     "metadata": {},
     "output_type": "execute_result"
    }
   ],
   "source": [
    "#remove leading and trailing new lines\n",
    "fulltext[\"text\"] = fulltext['text'].str.strip(\"\\n\")\n",
    "fulltext['text']"
   ]
  },
  {
   "cell_type": "code",
   "execution_count": 17,
   "metadata": {},
   "outputs": [
    {
     "name": "stdout",
     "output_type": "stream",
     "text": [
      "Index(['', 'LCC', '_repo', '_version', 'alternative_title', 'author',\n",
      "       'authoryearofbirth', 'authoryearofdeath', 'contributor', 'covers',\n",
      "       'creator', 'description', 'downloads', 'edition_identifiers',\n",
      "       'edition_note', 'filename', 'formats', 'gutenberg_bookshelf',\n",
      "       'gutenberg_issued', 'gutenberg_type', 'id', 'identifiers', 'jmdate',\n",
      "       'language_note', 'languages', 'lcsh', 'production_note',\n",
      "       'publication_date', 'publication_note', 'publisher', 'releaseDate',\n",
      "       'rights', 'rights_url', 'series_note', 'subjects', 'summary',\n",
      "       'tableOfContents', 'title', 'titlepage_image', 'type', 'url',\n",
      "       'wikipedia', 'wp_info', 'wp_literary_genres', 'wp_publication_date',\n",
      "       'wp_subjects'],\n",
      "      dtype='object')\n",
      "Index(['id', 'text'], dtype='object')\n"
     ]
    }
   ],
   "source": [
    "# how do we combine the two?\n",
    "print(meta.columns)\n",
    "print(fulltext.columns)"
   ]
  },
  {
   "cell_type": "code",
   "execution_count": 18,
   "metadata": {},
   "outputs": [
    {
     "name": "stdout",
     "output_type": "stream",
     "text": [
      "['105.0' '121.0' '141.0' '158.0' '161.0' '946.0' '1212.0' '1342.0'\n",
      " '21839.0' '25946.0' '31100.0' '33388.0' '35151.0' '35163.0' '36777.0'\n",
      " '37431.0' '37634.0' '42078.0' '42671.0' '45186.0']\n",
      "['105' '121' '141' '158' '161' '946' '1212' '1342' '21839' '25946' '31100'\n",
      " '33388' '35151' '35163' '36777' '37431' '37634' '42078' '42671' '45186']\n"
     ]
    }
   ],
   "source": [
    "# id looks similar? using values just to make the printing cleaner\n",
    "print(meta['id'].values)\n",
    "print(fulltext['id'].values)"
   ]
  },
  {
   "cell_type": "code",
   "execution_count": 19,
   "metadata": {},
   "outputs": [
    {
     "data": {
      "text/plain": [
       "array(['105', '121', '141', '158', '161', '946', '1212', '1342', '21839',\n",
       "       '25946', '311', '33388', '35151', '35163', '36777', '37431',\n",
       "       '37634', '42078', '42671', '45186'], dtype=object)"
      ]
     },
     "execution_count": 19,
     "metadata": {},
     "output_type": "execute_result"
    }
   ],
   "source": [
    "# lets clean up meta id to remove the last two letters '.0'\n",
    "meta['id'] = meta['id'].str.rstrip('.0')\n",
    "meta['id'].values"
   ]
  },
  {
   "cell_type": "code",
   "execution_count": 20,
   "metadata": {},
   "outputs": [
    {
     "data": {
      "text/html": [
       "<div>\n",
       "<style scoped>\n",
       "    .dataframe tbody tr th:only-of-type {\n",
       "        vertical-align: middle;\n",
       "    }\n",
       "\n",
       "    .dataframe tbody tr th {\n",
       "        vertical-align: top;\n",
       "    }\n",
       "\n",
       "    .dataframe thead th {\n",
       "        text-align: right;\n",
       "    }\n",
       "</style>\n",
       "<table border=\"1\" class=\"dataframe\">\n",
       "  <thead>\n",
       "    <tr style=\"text-align: right;\">\n",
       "      <th></th>\n",
       "      <th></th>\n",
       "      <th>LCC</th>\n",
       "      <th>_repo</th>\n",
       "      <th>_version</th>\n",
       "      <th>alternative_title</th>\n",
       "      <th>author</th>\n",
       "      <th>authoryearofbirth</th>\n",
       "      <th>authoryearofdeath</th>\n",
       "      <th>contributor</th>\n",
       "      <th>covers</th>\n",
       "      <th>...</th>\n",
       "      <th>title</th>\n",
       "      <th>titlepage_image</th>\n",
       "      <th>type</th>\n",
       "      <th>url</th>\n",
       "      <th>wikipedia</th>\n",
       "      <th>wp_info</th>\n",
       "      <th>wp_literary_genres</th>\n",
       "      <th>wp_publication_date</th>\n",
       "      <th>wp_subjects</th>\n",
       "      <th>text</th>\n",
       "    </tr>\n",
       "  </thead>\n",
       "  <tbody>\n",
       "    <tr>\n",
       "      <th>0</th>\n",
       "      <td>102</td>\n",
       "      <td>{'PR'}</td>\n",
       "      <td>Persuasion_105</td>\n",
       "      <td>0.2.0</td>\n",
       "      <td></td>\n",
       "      <td>Austen, Jane</td>\n",
       "      <td>1775</td>\n",
       "      <td>1817</td>\n",
       "      <td></td>\n",
       "      <td>[{'cover_type': 'archival', 'image_path': 'epu...</td>\n",
       "      <td>...</td>\n",
       "      <td>Persuasion</td>\n",
       "      <td></td>\n",
       "      <td>Text</td>\n",
       "      <td>http://www.gutenberg.org/ebooks/105</td>\n",
       "      <td>['https://fi.wikipedia.org/wiki/Viisasteleva_s...</td>\n",
       "      <td>{'http://www.w3.org/1999/02/22-rdf-syntax-ns#t...</td>\n",
       "      <td></td>\n",
       "      <td></td>\n",
       "      <td>['Novels_about_nobility', 'John_Murray_(publis...</td>\n",
       "      <td>by Al Haines.\\n\\n\\n\\n\\n\\n\\n\\n\\n\\n\\nPersuasion\\...</td>\n",
       "    </tr>\n",
       "    <tr>\n",
       "      <th>1</th>\n",
       "      <td>116</td>\n",
       "      <td>{'PR'}</td>\n",
       "      <td>Northanger-Abbey_121</td>\n",
       "      <td>0.2.0</td>\n",
       "      <td></td>\n",
       "      <td>Austen, Jane</td>\n",
       "      <td>1775</td>\n",
       "      <td>1817</td>\n",
       "      <td></td>\n",
       "      <td>[{'cover_type': 'generated', 'image_path': 'co...</td>\n",
       "      <td>...</td>\n",
       "      <td>Northanger Abbey</td>\n",
       "      <td></td>\n",
       "      <td>Text</td>\n",
       "      <td>http://www.gutenberg.org/ebooks/121</td>\n",
       "      <td>['https://fi.wikipedia.org/wiki/Northanger_Abb...</td>\n",
       "      <td>{'http://www.w3.org/1999/02/22-rdf-syntax-ns#t...</td>\n",
       "      <td></td>\n",
       "      <td></td>\n",
       "      <td>['Novels_by_Jane_Austen', 'Novels_set_in_Somer...</td>\n",
       "      <td>NORTHANGER ABBEY\\n\\n\\nby\\n\\nJane Austen (1803)...</td>\n",
       "    </tr>\n",
       "    <tr>\n",
       "      <th>2</th>\n",
       "      <td>134</td>\n",
       "      <td>{'PR'}</td>\n",
       "      <td>Mansfield-Park_141</td>\n",
       "      <td>0.2.0</td>\n",
       "      <td></td>\n",
       "      <td>Austen, Jane</td>\n",
       "      <td>1775</td>\n",
       "      <td>1817</td>\n",
       "      <td></td>\n",
       "      <td>[{'cover_type': 'generated', 'image_path': 'co...</td>\n",
       "      <td>...</td>\n",
       "      <td>Mansfield Park</td>\n",
       "      <td></td>\n",
       "      <td>Text</td>\n",
       "      <td>http://www.gutenberg.org/ebooks/141</td>\n",
       "      <td>['https://fi.wikipedia.org/wiki/Kasvattityt%C3...</td>\n",
       "      <td>{'http://www.w3.org/1999/02/22-rdf-syntax-ns#t...</td>\n",
       "      <td></td>\n",
       "      <td></td>\n",
       "      <td>['Novels_by_Jane_Austen', 'British_novels_adap...</td>\n",
       "      <td>MANSFIELD PARK\\n\\n(1814)\\n\\n\\nBy Jane Austen\\n...</td>\n",
       "    </tr>\n",
       "    <tr>\n",
       "      <th>3</th>\n",
       "      <td>151</td>\n",
       "      <td>{'PR'}</td>\n",
       "      <td>Emma_158</td>\n",
       "      <td>0.2.0</td>\n",
       "      <td></td>\n",
       "      <td>Austen, Jane</td>\n",
       "      <td>1775</td>\n",
       "      <td>1817</td>\n",
       "      <td></td>\n",
       "      <td>[{'cover_type': 'generated', 'image_path': 'co...</td>\n",
       "      <td>...</td>\n",
       "      <td>Emma</td>\n",
       "      <td></td>\n",
       "      <td>Text</td>\n",
       "      <td>http://www.gutenberg.org/ebooks/158</td>\n",
       "      <td>['https://fi.wikipedia.org/wiki/Emma_(romaani)...</td>\n",
       "      <td>{'http://www.w3.org/1999/02/22-rdf-syntax-ns#t...</td>\n",
       "      <td>['Novel_of_manners']</td>\n",
       "      <td></td>\n",
       "      <td>['Novels_by_Jane_Austen', 'Novels_about_nobili...</td>\n",
       "      <td>EMMA\\n\\nBy Jane Austen\\n\\n\\n\\n\\nVOLUME I\\n\\n\\n...</td>\n",
       "    </tr>\n",
       "    <tr>\n",
       "      <th>4</th>\n",
       "      <td>154</td>\n",
       "      <td>{'PR'}</td>\n",
       "      <td>Sense-and-Sensibility_161</td>\n",
       "      <td>0.2.0</td>\n",
       "      <td></td>\n",
       "      <td>Austen, Jane</td>\n",
       "      <td>1775</td>\n",
       "      <td>1817</td>\n",
       "      <td></td>\n",
       "      <td>[{'cover_type': 'generated', 'image_path': 'co...</td>\n",
       "      <td>...</td>\n",
       "      <td>Sense and Sensibility</td>\n",
       "      <td></td>\n",
       "      <td>Text</td>\n",
       "      <td>http://www.gutenberg.org/ebooks/161</td>\n",
       "      <td>['https://fi.wikipedia.org/wiki/J%C3%A4rki_ja_...</td>\n",
       "      <td>{'http://www.w3.org/1999/02/22-rdf-syntax-ns#t...</td>\n",
       "      <td></td>\n",
       "      <td></td>\n",
       "      <td>['Debut_novels', 'Novels_by_Jane_Austen', 'Wor...</td>\n",
       "      <td>Special thanks are due to Sharon Partridge for...</td>\n",
       "    </tr>\n",
       "  </tbody>\n",
       "</table>\n",
       "<p>5 rows × 47 columns</p>\n",
       "</div>"
      ],
      "text/plain": [
       "           LCC                      _repo _version alternative_title  \\\n",
       "0  102  {'PR'}             Persuasion_105    0.2.0                     \n",
       "1  116  {'PR'}       Northanger-Abbey_121    0.2.0                     \n",
       "2  134  {'PR'}         Mansfield-Park_141    0.2.0                     \n",
       "3  151  {'PR'}                   Emma_158    0.2.0                     \n",
       "4  154  {'PR'}  Sense-and-Sensibility_161    0.2.0                     \n",
       "\n",
       "         author authoryearofbirth authoryearofdeath contributor  \\\n",
       "0  Austen, Jane              1775              1817               \n",
       "1  Austen, Jane              1775              1817               \n",
       "2  Austen, Jane              1775              1817               \n",
       "3  Austen, Jane              1775              1817               \n",
       "4  Austen, Jane              1775              1817               \n",
       "\n",
       "                                              covers  ...  \\\n",
       "0  [{'cover_type': 'archival', 'image_path': 'epu...  ...   \n",
       "1  [{'cover_type': 'generated', 'image_path': 'co...  ...   \n",
       "2  [{'cover_type': 'generated', 'image_path': 'co...  ...   \n",
       "3  [{'cover_type': 'generated', 'image_path': 'co...  ...   \n",
       "4  [{'cover_type': 'generated', 'image_path': 'co...  ...   \n",
       "\n",
       "                   title titlepage_image  type  \\\n",
       "0             Persuasion                  Text   \n",
       "1       Northanger Abbey                  Text   \n",
       "2         Mansfield Park                  Text   \n",
       "3                   Emma                  Text   \n",
       "4  Sense and Sensibility                  Text   \n",
       "\n",
       "                                   url  \\\n",
       "0  http://www.gutenberg.org/ebooks/105   \n",
       "1  http://www.gutenberg.org/ebooks/121   \n",
       "2  http://www.gutenberg.org/ebooks/141   \n",
       "3  http://www.gutenberg.org/ebooks/158   \n",
       "4  http://www.gutenberg.org/ebooks/161   \n",
       "\n",
       "                                           wikipedia  \\\n",
       "0  ['https://fi.wikipedia.org/wiki/Viisasteleva_s...   \n",
       "1  ['https://fi.wikipedia.org/wiki/Northanger_Abb...   \n",
       "2  ['https://fi.wikipedia.org/wiki/Kasvattityt%C3...   \n",
       "3  ['https://fi.wikipedia.org/wiki/Emma_(romaani)...   \n",
       "4  ['https://fi.wikipedia.org/wiki/J%C3%A4rki_ja_...   \n",
       "\n",
       "                                             wp_info    wp_literary_genres  \\\n",
       "0  {'http://www.w3.org/1999/02/22-rdf-syntax-ns#t...                         \n",
       "1  {'http://www.w3.org/1999/02/22-rdf-syntax-ns#t...                         \n",
       "2  {'http://www.w3.org/1999/02/22-rdf-syntax-ns#t...                         \n",
       "3  {'http://www.w3.org/1999/02/22-rdf-syntax-ns#t...  ['Novel_of_manners']   \n",
       "4  {'http://www.w3.org/1999/02/22-rdf-syntax-ns#t...                         \n",
       "\n",
       "  wp_publication_date                                        wp_subjects  \\\n",
       "0                      ['Novels_about_nobility', 'John_Murray_(publis...   \n",
       "1                      ['Novels_by_Jane_Austen', 'Novels_set_in_Somer...   \n",
       "2                      ['Novels_by_Jane_Austen', 'British_novels_adap...   \n",
       "3                      ['Novels_by_Jane_Austen', 'Novels_about_nobili...   \n",
       "4                      ['Debut_novels', 'Novels_by_Jane_Austen', 'Wor...   \n",
       "\n",
       "                                                text  \n",
       "0  by Al Haines.\\n\\n\\n\\n\\n\\n\\n\\n\\n\\n\\nPersuasion\\...  \n",
       "1  NORTHANGER ABBEY\\n\\n\\nby\\n\\nJane Austen (1803)...  \n",
       "2  MANSFIELD PARK\\n\\n(1814)\\n\\n\\nBy Jane Austen\\n...  \n",
       "3  EMMA\\n\\nBy Jane Austen\\n\\n\\n\\n\\nVOLUME I\\n\\n\\n...  \n",
       "4  Special thanks are due to Sharon Partridge for...  \n",
       "\n",
       "[5 rows x 47 columns]"
      ]
     },
     "execution_count": 20,
     "metadata": {},
     "output_type": "execute_result"
    }
   ],
   "source": [
    "#how do we merge so we have metadata with text?\n",
    "#left.merge(right, **kwargs)\n",
    "austen_corpus = meta.merge(fulltext, left_on='id', right_on=\"id\")\n",
    "austen_corpus.head()"
   ]
  },
  {
   "cell_type": "code",
   "execution_count": 21,
   "metadata": {},
   "outputs": [],
   "source": [
    "# let's save out the new dataset\n",
    "austen_corpus.to_csv(\"austen.csv\")"
   ]
  },
  {
   "cell_type": "markdown",
   "metadata": {},
   "source": [
    "# Try with a different author"
   ]
  },
  {
   "cell_type": "code",
   "execution_count": null,
   "metadata": {},
   "outputs": [],
   "source": []
  }
 ],
 "metadata": {
  "celltoolbar": "Slideshow",
  "kernelspec": {
   "display_name": "Python 3",
   "language": "python",
   "name": "python3"
  },
  "language_info": {
   "codemirror_mode": {
    "name": "ipython",
    "version": 3
   },
   "file_extension": ".py",
   "mimetype": "text/x-python",
   "name": "python",
   "nbconvert_exporter": "python",
   "pygments_lexer": "ipython3",
   "version": "3.7.2"
  },
  "varInspector": {
   "cols": {
    "lenName": 16,
    "lenType": 16,
    "lenVar": 40
   },
   "kernels_config": {
    "python": {
     "delete_cmd_postfix": "",
     "delete_cmd_prefix": "del ",
     "library": "var_list.py",
     "varRefreshCmd": "print(var_dic_list())"
    },
    "r": {
     "delete_cmd_postfix": ") ",
     "delete_cmd_prefix": "rm(",
     "library": "var_list.r",
     "varRefreshCmd": "cat(var_dic_list()) "
    }
   },
   "types_to_exclude": [
    "module",
    "function",
    "builtin_function_or_method",
    "instance",
    "_Feature"
   ],
   "window_display": false
  }
 },
 "nbformat": 4,
 "nbformat_minor": 2
}
