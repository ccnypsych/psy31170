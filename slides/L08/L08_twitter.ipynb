{
 "cells": [
  {
   "cell_type": "markdown",
   "metadata": {
    "slideshow": {
     "slide_type": "slide"
    }
   },
   "source": [
    "Application\n",
    "=======\n",
    "![twitter is an application](figs/application.png)"
   ]
  },
  {
   "cell_type": "markdown",
   "metadata": {
    "slideshow": {
     "slide_type": "slide"
    }
   },
   "source": [
    "Interface\n",
    "=====\n",
    "![twitter has an interface](figs/interface.png)"
   ]
  },
  {
   "cell_type": "markdown",
   "metadata": {
    "slideshow": {
     "slide_type": "slide"
    }
   },
   "source": [
    "Which can be accessed using a Programming langauge\n",
    "=====================================================\n",
    "![twitter api screenshot](figs/twitterapi.png)\n",
    "\n",
    "The twitter Applications Programming Interface (API) can be found at: https://developer.twitter.com/en/docs\n"
   ]
  },
  {
   "cell_type": "markdown",
   "metadata": {
    "slideshow": {
     "slide_type": "slide"
    }
   },
   "source": [
    "There are many ways to talk to twitter using Python, but for this workshop we will start by using the [tweepy](http://www.tweepy.org/) library. If you haven't installed it yet, [open a terminal](https://github.com/GCDigitalFellows/installdri.github.io/blob/master/anaconda.md) and type:\n",
    "```bash\n",
    "conda install -c conda-forge tweepy -y\n",
    "```"
   ]
  },
  {
   "cell_type": "markdown",
   "metadata": {
    "slideshow": {
     "slide_type": "slide"
    }
   },
   "source": [
    "What are authentication keys and access tokens?\n",
    "===============\n",
    "Just like people need usernames and passwords, so do programs that talk to websites. Twitter uses a protocal called [OAuth Autentication](http://tweepy.readthedocs.io/en/v3.6.0/auth_tutorial.html). Manage yours at \n",
    "# https://apps.twitter.com/"
   ]
  },
  {
   "cell_type": "markdown",
   "metadata": {
    "slideshow": {
     "slide_type": "slide"
    }
   },
   "source": [
    "![app management page](figs/register.png)"
   ]
  },
  {
   "cell_type": "code",
   "execution_count": 3,
   "metadata": {
    "slideshow": {
     "slide_type": "slide"
    }
   },
   "outputs": [],
   "source": [
    "#import tweepy and my private file with my access\n",
    "import tweepy\n",
    "\n",
    "#replace my authentication credentials with yours\n",
    "import my_tokens \n",
    "consumer_key = my_tokens.twitter_consumer_key\n",
    "consumer_secret = my_tokens.twitter_consumer_secret\n",
    "access_token = my_tokens.twitter_access_token\n",
    "access_token_secret = my_tokens.twitter_access_token_secret"
   ]
  },
  {
   "cell_type": "code",
   "execution_count": 2,
   "metadata": {},
   "outputs": [
    {
     "data": {
      "text/plain": [
       "'JGZ88stPTbUE0aS2PQ3hcDDME'"
      ]
     },
     "execution_count": 2,
     "metadata": {},
     "output_type": "execute_result"
    }
   ],
   "source": [
    "consumer_key"
   ]
  },
  {
   "cell_type": "code",
   "execution_count": 4,
   "metadata": {
    "slideshow": {
     "slide_type": "slide"
    }
   },
   "outputs": [],
   "source": [
    "# connect to twitter\n",
    "auth = tweepy.OAuthHandler(consumer_key, consumer_secret)\n",
    "auth.set_access_token(access_token, access_token_secret)\n",
    "# write up about API object\n",
    "api = tweepy.API(auth)"
   ]
  },
  {
   "cell_type": "markdown",
   "metadata": {
    "slideshow": {
     "slide_type": "slide"
    }
   },
   "source": [
    "How does twitter search?\n",
    "=============\n",
    "\n",
    "* https://developer.twitter.com/en/docs/tweets/search/api-reference/get-search-tweets\n",
    "\n",
    "* tweepy interface: http://docs.tweepy.org/en/v3.5.0/api.html#API.search\n",
    "\n",
    "parameters:\n",
    "* q – **required**, the search query string\n",
    "* lang – Restricts tweets to the given language, given by an ISO 639-1 code.\n",
    "* locale – Specify the language of the query you are sending. This is intended for language-specific clients and the default should work in the majority of cases.\n",
    "* rpp – The number of tweets to return per page, up to a max of 100.\n",
    "* page – The page number (starting at 1) to return, up to a max of roughly 1500 results (based on rpp * page.\n",
    "* since_id – Returns only statuses with an ID greater than (that is, more recent than) the specified ID.\n",
    "* geocode – Returns tweets by users located within a given radius of the given latitude/longitude. The location is preferentially taking from the Geotagging API, but will fall back to their Twitter profile. The parameter value is specified by “latitide,longitude,radius”, where radius units must be specified as either “mi” (miles) or “km” (kilometers). Note that you cannot use the near operator via the API to geocode arbitrary locations; however you can use this geocode parameter to search near geocodes directly.\n",
    "* show_user – When true, prepends “<user>:” to the beginning of the tweet. This is useful for readers that do not display Atom’s author field. The default is false.\n"
   ]
  },
  {
   "cell_type": "code",
   "execution_count": 5,
   "metadata": {
    "slideshow": {
     "slide_type": "slide"
    }
   },
   "outputs": [],
   "source": [
    "# let's get every tweet with hashtag \"#digitalgc\" in for the past week\n",
    "# twitter api only allows searches for the past week\n",
    "# api.search\n",
    "digitalgc_tweets = api.search(q=\"#digitalgc\", \n",
    "                              count=100, lang=\"en\", \n",
    "                              since=\"2018-01-01\")\n"
   ]
  },
  {
   "cell_type": "code",
   "execution_count": 10,
   "metadata": {
    "slideshow": {
     "slide_type": "slide"
    }
   },
   "outputs": [
    {
     "data": {
      "text/plain": [
       "Status(_api=<tweepy.api.API object at 0x112637c18>, _json={'created_at': 'Wed Mar 14 14:41:36 +0000 2018', 'id': 973932161563848705, 'id_str': '973932161563848705', 'text': \"Wish I could go to the podcasting event but I'll be at a conference! Y'all should go and report back. #digitalgc… https://t.co/ljbk1sR8fm\", 'truncated': True, 'entities': {'hashtags': [{'text': 'digitalgc', 'indices': [102, 112]}], 'symbols': [], 'user_mentions': [], 'urls': [{'url': 'https://t.co/ljbk1sR8fm', 'expanded_url': 'https://twitter.com/i/web/status/973932161563848705', 'display_url': 'twitter.com/i/web/status/9…', 'indices': [114, 137]}]}, 'metadata': {'iso_language_code': 'en', 'result_type': 'recent'}, 'source': '<a href=\"http://twitter.com/download/android\" rel=\"nofollow\">Twitter for Android</a>', 'in_reply_to_status_id': None, 'in_reply_to_status_id_str': None, 'in_reply_to_user_id': None, 'in_reply_to_user_id_str': None, 'in_reply_to_screen_name': None, 'user': {'id': 2370577693, 'id_str': '2370577693', 'name': 'Christina Katopodis', 'screen_name': 'nemersonian', 'location': 'New York, NY', 'description': '19C Americanist, Environmentalist, Feminist, doctoral candidate in English and @FuturesEd fellow at @GC_CUNY, Adjunct, Pedagogy Blogger. Opinions are my own.', 'url': 'https://t.co/YE0RZlQh4Y', 'entities': {'url': {'urls': [{'url': 'https://t.co/YE0RZlQh4Y', 'expanded_url': 'http://christinakatopodis.net', 'display_url': 'christinakatopodis.net', 'indices': [0, 23]}]}, 'description': {'urls': []}}, 'protected': False, 'followers_count': 803, 'friends_count': 1189, 'listed_count': 25, 'created_at': 'Mon Mar 03 15:23:43 +0000 2014', 'favourites_count': 7729, 'utc_offset': -14400, 'time_zone': 'Eastern Time (US & Canada)', 'geo_enabled': False, 'verified': False, 'statuses_count': 4761, 'lang': 'en', 'contributors_enabled': False, 'is_translator': False, 'is_translation_enabled': False, 'profile_background_color': 'C0DEED', 'profile_background_image_url': 'http://abs.twimg.com/images/themes/theme1/bg.png', 'profile_background_image_url_https': 'https://abs.twimg.com/images/themes/theme1/bg.png', 'profile_background_tile': False, 'profile_image_url': 'http://pbs.twimg.com/profile_images/716840721865506816/G_QropRI_normal.jpg', 'profile_image_url_https': 'https://pbs.twimg.com/profile_images/716840721865506816/G_QropRI_normal.jpg', 'profile_banner_url': 'https://pbs.twimg.com/profile_banners/2370577693/1478531311', 'profile_link_color': '1DA1F2', 'profile_sidebar_border_color': 'C0DEED', 'profile_sidebar_fill_color': 'DDEEF6', 'profile_text_color': '333333', 'profile_use_background_image': True, 'has_extended_profile': False, 'default_profile': True, 'default_profile_image': False, 'following': True, 'follow_request_sent': False, 'notifications': False, 'translator_type': 'none'}, 'geo': None, 'coordinates': None, 'place': None, 'contributors': None, 'is_quote_status': True, 'quoted_status_id': 973928675526758402, 'quoted_status_id_str': '973928675526758402', 'quoted_status': {'created_at': 'Wed Mar 14 14:27:45 +0000 2018', 'id': 973928675526758402, 'id_str': '973928675526758402', 'text': 'We still have a few events left - check out https://t.co/9IpjS0o7NQ for more! #gcdisound https://t.co/pGb4MlMPhV', 'truncated': False, 'entities': {'hashtags': [{'text': 'gcdisound', 'indices': [78, 88]}], 'symbols': [], 'user_mentions': [], 'urls': [{'url': 'https://t.co/9IpjS0o7NQ', 'expanded_url': 'https://gcdi.commons.gc.cuny.edu/gcdi-sound-series-2017-2018/', 'display_url': 'gcdi.commons.gc.cuny.edu/gcdi-sound-ser…', 'indices': [44, 67]}, {'url': 'https://t.co/pGb4MlMPhV', 'expanded_url': 'https://twitter.com/nemersonian/status/973692974038179840', 'display_url': 'twitter.com/nemersonian/st…', 'indices': [89, 112]}]}, 'metadata': {'iso_language_code': 'en', 'result_type': 'recent'}, 'source': '<a href=\"http://twitter.com\" rel=\"nofollow\">Twitter Web Client</a>', 'in_reply_to_status_id': None, 'in_reply_to_status_id_str': None, 'in_reply_to_user_id': None, 'in_reply_to_user_id_str': None, 'in_reply_to_screen_name': None, 'user': {'id': 478889932, 'id_str': '478889932', 'name': 'CUNYGCDI', 'screen_name': 'cunygcdi', 'location': 'New York, NY', 'description': 'Digital Initiatives at the Graduate Center of the City University of New York. #digitalgc', 'url': 'http://t.co/J6nuijZ3Cy', 'entities': {'url': {'urls': [{'url': 'http://t.co/J6nuijZ3Cy', 'expanded_url': 'http://gcdi.commons.gc.cuny.edu', 'display_url': 'gcdi.commons.gc.cuny.edu', 'indices': [0, 22]}]}, 'description': {'urls': []}}, 'protected': False, 'followers_count': 1868, 'friends_count': 824, 'listed_count': 78, 'created_at': 'Mon Jan 30 19:40:57 +0000 2012', 'favourites_count': 761, 'utc_offset': -14400, 'time_zone': 'Eastern Time (US & Canada)', 'geo_enabled': False, 'verified': False, 'statuses_count': 1458, 'lang': 'en', 'contributors_enabled': False, 'is_translator': False, 'is_translation_enabled': False, 'profile_background_color': 'C0DEED', 'profile_background_image_url': 'http://abs.twimg.com/images/themes/theme1/bg.png', 'profile_background_image_url_https': 'https://abs.twimg.com/images/themes/theme1/bg.png', 'profile_background_tile': False, 'profile_image_url': 'http://pbs.twimg.com/profile_images/1792777367/DI_logo_large_normal.jpg', 'profile_image_url_https': 'https://pbs.twimg.com/profile_images/1792777367/DI_logo_large_normal.jpg', 'profile_link_color': '1DA1F2', 'profile_sidebar_border_color': 'C0DEED', 'profile_sidebar_fill_color': 'DDEEF6', 'profile_text_color': '333333', 'profile_use_background_image': True, 'has_extended_profile': False, 'default_profile': True, 'default_profile_image': False, 'following': True, 'follow_request_sent': False, 'notifications': False, 'translator_type': 'none'}, 'geo': None, 'coordinates': None, 'place': None, 'contributors': None, 'is_quote_status': True, 'quoted_status_id': 973692974038179840, 'quoted_status_id_str': '973692974038179840', 'retweet_count': 3, 'favorite_count': 5, 'favorited': False, 'retweeted': False, 'possibly_sensitive': False, 'lang': 'en'}, 'retweet_count': 0, 'favorite_count': 1, 'favorited': False, 'retweeted': False, 'possibly_sensitive': False, 'lang': 'en'}, created_at=datetime.datetime(2018, 3, 14, 14, 41, 36), id=973932161563848705, id_str='973932161563848705', text=\"Wish I could go to the podcasting event but I'll be at a conference! Y'all should go and report back. #digitalgc… https://t.co/ljbk1sR8fm\", truncated=True, entities={'hashtags': [{'text': 'digitalgc', 'indices': [102, 112]}], 'symbols': [], 'user_mentions': [], 'urls': [{'url': 'https://t.co/ljbk1sR8fm', 'expanded_url': 'https://twitter.com/i/web/status/973932161563848705', 'display_url': 'twitter.com/i/web/status/9…', 'indices': [114, 137]}]}, metadata={'iso_language_code': 'en', 'result_type': 'recent'}, source='Twitter for Android', source_url='http://twitter.com/download/android', in_reply_to_status_id=None, in_reply_to_status_id_str=None, in_reply_to_user_id=None, in_reply_to_user_id_str=None, in_reply_to_screen_name=None, author=User(_api=<tweepy.api.API object at 0x112637c18>, _json={'id': 2370577693, 'id_str': '2370577693', 'name': 'Christina Katopodis', 'screen_name': 'nemersonian', 'location': 'New York, NY', 'description': '19C Americanist, Environmentalist, Feminist, doctoral candidate in English and @FuturesEd fellow at @GC_CUNY, Adjunct, Pedagogy Blogger. Opinions are my own.', 'url': 'https://t.co/YE0RZlQh4Y', 'entities': {'url': {'urls': [{'url': 'https://t.co/YE0RZlQh4Y', 'expanded_url': 'http://christinakatopodis.net', 'display_url': 'christinakatopodis.net', 'indices': [0, 23]}]}, 'description': {'urls': []}}, 'protected': False, 'followers_count': 803, 'friends_count': 1189, 'listed_count': 25, 'created_at': 'Mon Mar 03 15:23:43 +0000 2014', 'favourites_count': 7729, 'utc_offset': -14400, 'time_zone': 'Eastern Time (US & Canada)', 'geo_enabled': False, 'verified': False, 'statuses_count': 4761, 'lang': 'en', 'contributors_enabled': False, 'is_translator': False, 'is_translation_enabled': False, 'profile_background_color': 'C0DEED', 'profile_background_image_url': 'http://abs.twimg.com/images/themes/theme1/bg.png', 'profile_background_image_url_https': 'https://abs.twimg.com/images/themes/theme1/bg.png', 'profile_background_tile': False, 'profile_image_url': 'http://pbs.twimg.com/profile_images/716840721865506816/G_QropRI_normal.jpg', 'profile_image_url_https': 'https://pbs.twimg.com/profile_images/716840721865506816/G_QropRI_normal.jpg', 'profile_banner_url': 'https://pbs.twimg.com/profile_banners/2370577693/1478531311', 'profile_link_color': '1DA1F2', 'profile_sidebar_border_color': 'C0DEED', 'profile_sidebar_fill_color': 'DDEEF6', 'profile_text_color': '333333', 'profile_use_background_image': True, 'has_extended_profile': False, 'default_profile': True, 'default_profile_image': False, 'following': True, 'follow_request_sent': False, 'notifications': False, 'translator_type': 'none'}, id=2370577693, id_str='2370577693', name='Christina Katopodis', screen_name='nemersonian', location='New York, NY', description='19C Americanist, Environmentalist, Feminist, doctoral candidate in English and @FuturesEd fellow at @GC_CUNY, Adjunct, Pedagogy Blogger. Opinions are my own.', url='https://t.co/YE0RZlQh4Y', entities={'url': {'urls': [{'url': 'https://t.co/YE0RZlQh4Y', 'expanded_url': 'http://christinakatopodis.net', 'display_url': 'christinakatopodis.net', 'indices': [0, 23]}]}, 'description': {'urls': []}}, protected=False, followers_count=803, friends_count=1189, listed_count=25, created_at=datetime.datetime(2014, 3, 3, 15, 23, 43), favourites_count=7729, utc_offset=-14400, time_zone='Eastern Time (US & Canada)', geo_enabled=False, verified=False, statuses_count=4761, lang='en', contributors_enabled=False, is_translator=False, is_translation_enabled=False, profile_background_color='C0DEED', profile_background_image_url='http://abs.twimg.com/images/themes/theme1/bg.png', profile_background_image_url_https='https://abs.twimg.com/images/themes/theme1/bg.png', profile_background_tile=False, profile_image_url='http://pbs.twimg.com/profile_images/716840721865506816/G_QropRI_normal.jpg', profile_image_url_https='https://pbs.twimg.com/profile_images/716840721865506816/G_QropRI_normal.jpg', profile_banner_url='https://pbs.twimg.com/profile_banners/2370577693/1478531311', profile_link_color='1DA1F2', profile_sidebar_border_color='C0DEED', profile_sidebar_fill_color='DDEEF6', profile_text_color='333333', profile_use_background_image=True, has_extended_profile=False, default_profile=True, default_profile_image=False, following=True, follow_request_sent=False, notifications=False, translator_type='none'), user=User(_api=<tweepy.api.API object at 0x112637c18>, _json={'id': 2370577693, 'id_str': '2370577693', 'name': 'Christina Katopodis', 'screen_name': 'nemersonian', 'location': 'New York, NY', 'description': '19C Americanist, Environmentalist, Feminist, doctoral candidate in English and @FuturesEd fellow at @GC_CUNY, Adjunct, Pedagogy Blogger. Opinions are my own.', 'url': 'https://t.co/YE0RZlQh4Y', 'entities': {'url': {'urls': [{'url': 'https://t.co/YE0RZlQh4Y', 'expanded_url': 'http://christinakatopodis.net', 'display_url': 'christinakatopodis.net', 'indices': [0, 23]}]}, 'description': {'urls': []}}, 'protected': False, 'followers_count': 803, 'friends_count': 1189, 'listed_count': 25, 'created_at': 'Mon Mar 03 15:23:43 +0000 2014', 'favourites_count': 7729, 'utc_offset': -14400, 'time_zone': 'Eastern Time (US & Canada)', 'geo_enabled': False, 'verified': False, 'statuses_count': 4761, 'lang': 'en', 'contributors_enabled': False, 'is_translator': False, 'is_translation_enabled': False, 'profile_background_color': 'C0DEED', 'profile_background_image_url': 'http://abs.twimg.com/images/themes/theme1/bg.png', 'profile_background_image_url_https': 'https://abs.twimg.com/images/themes/theme1/bg.png', 'profile_background_tile': False, 'profile_image_url': 'http://pbs.twimg.com/profile_images/716840721865506816/G_QropRI_normal.jpg', 'profile_image_url_https': 'https://pbs.twimg.com/profile_images/716840721865506816/G_QropRI_normal.jpg', 'profile_banner_url': 'https://pbs.twimg.com/profile_banners/2370577693/1478531311', 'profile_link_color': '1DA1F2', 'profile_sidebar_border_color': 'C0DEED', 'profile_sidebar_fill_color': 'DDEEF6', 'profile_text_color': '333333', 'profile_use_background_image': True, 'has_extended_profile': False, 'default_profile': True, 'default_profile_image': False, 'following': True, 'follow_request_sent': False, 'notifications': False, 'translator_type': 'none'}, id=2370577693, id_str='2370577693', name='Christina Katopodis', screen_name='nemersonian', location='New York, NY', description='19C Americanist, Environmentalist, Feminist, doctoral candidate in English and @FuturesEd fellow at @GC_CUNY, Adjunct, Pedagogy Blogger. Opinions are my own.', url='https://t.co/YE0RZlQh4Y', entities={'url': {'urls': [{'url': 'https://t.co/YE0RZlQh4Y', 'expanded_url': 'http://christinakatopodis.net', 'display_url': 'christinakatopodis.net', 'indices': [0, 23]}]}, 'description': {'urls': []}}, protected=False, followers_count=803, friends_count=1189, listed_count=25, created_at=datetime.datetime(2014, 3, 3, 15, 23, 43), favourites_count=7729, utc_offset=-14400, time_zone='Eastern Time (US & Canada)', geo_enabled=False, verified=False, statuses_count=4761, lang='en', contributors_enabled=False, is_translator=False, is_translation_enabled=False, profile_background_color='C0DEED', profile_background_image_url='http://abs.twimg.com/images/themes/theme1/bg.png', profile_background_image_url_https='https://abs.twimg.com/images/themes/theme1/bg.png', profile_background_tile=False, profile_image_url='http://pbs.twimg.com/profile_images/716840721865506816/G_QropRI_normal.jpg', profile_image_url_https='https://pbs.twimg.com/profile_images/716840721865506816/G_QropRI_normal.jpg', profile_banner_url='https://pbs.twimg.com/profile_banners/2370577693/1478531311', profile_link_color='1DA1F2', profile_sidebar_border_color='C0DEED', profile_sidebar_fill_color='DDEEF6', profile_text_color='333333', profile_use_background_image=True, has_extended_profile=False, default_profile=True, default_profile_image=False, following=True, follow_request_sent=False, notifications=False, translator_type='none'), geo=None, coordinates=None, place=None, contributors=None, is_quote_status=True, quoted_status_id=973928675526758402, quoted_status_id_str='973928675526758402', quoted_status={'created_at': 'Wed Mar 14 14:27:45 +0000 2018', 'id': 973928675526758402, 'id_str': '973928675526758402', 'text': 'We still have a few events left - check out https://t.co/9IpjS0o7NQ for more! #gcdisound https://t.co/pGb4MlMPhV', 'truncated': False, 'entities': {'hashtags': [{'text': 'gcdisound', 'indices': [78, 88]}], 'symbols': [], 'user_mentions': [], 'urls': [{'url': 'https://t.co/9IpjS0o7NQ', 'expanded_url': 'https://gcdi.commons.gc.cuny.edu/gcdi-sound-series-2017-2018/', 'display_url': 'gcdi.commons.gc.cuny.edu/gcdi-sound-ser…', 'indices': [44, 67]}, {'url': 'https://t.co/pGb4MlMPhV', 'expanded_url': 'https://twitter.com/nemersonian/status/973692974038179840', 'display_url': 'twitter.com/nemersonian/st…', 'indices': [89, 112]}]}, 'metadata': {'iso_language_code': 'en', 'result_type': 'recent'}, 'source': '<a href=\"http://twitter.com\" rel=\"nofollow\">Twitter Web Client</a>', 'in_reply_to_status_id': None, 'in_reply_to_status_id_str': None, 'in_reply_to_user_id': None, 'in_reply_to_user_id_str': None, 'in_reply_to_screen_name': None, 'user': {'id': 478889932, 'id_str': '478889932', 'name': 'CUNYGCDI', 'screen_name': 'cunygcdi', 'location': 'New York, NY', 'description': 'Digital Initiatives at the Graduate Center of the City University of New York. #digitalgc', 'url': 'http://t.co/J6nuijZ3Cy', 'entities': {'url': {'urls': [{'url': 'http://t.co/J6nuijZ3Cy', 'expanded_url': 'http://gcdi.commons.gc.cuny.edu', 'display_url': 'gcdi.commons.gc.cuny.edu', 'indices': [0, 22]}]}, 'description': {'urls': []}}, 'protected': False, 'followers_count': 1868, 'friends_count': 824, 'listed_count': 78, 'created_at': 'Mon Jan 30 19:40:57 +0000 2012', 'favourites_count': 761, 'utc_offset': -14400, 'time_zone': 'Eastern Time (US & Canada)', 'geo_enabled': False, 'verified': False, 'statuses_count': 1458, 'lang': 'en', 'contributors_enabled': False, 'is_translator': False, 'is_translation_enabled': False, 'profile_background_color': 'C0DEED', 'profile_background_image_url': 'http://abs.twimg.com/images/themes/theme1/bg.png', 'profile_background_image_url_https': 'https://abs.twimg.com/images/themes/theme1/bg.png', 'profile_background_tile': False, 'profile_image_url': 'http://pbs.twimg.com/profile_images/1792777367/DI_logo_large_normal.jpg', 'profile_image_url_https': 'https://pbs.twimg.com/profile_images/1792777367/DI_logo_large_normal.jpg', 'profile_link_color': '1DA1F2', 'profile_sidebar_border_color': 'C0DEED', 'profile_sidebar_fill_color': 'DDEEF6', 'profile_text_color': '333333', 'profile_use_background_image': True, 'has_extended_profile': False, 'default_profile': True, 'default_profile_image': False, 'following': True, 'follow_request_sent': False, 'notifications': False, 'translator_type': 'none'}, 'geo': None, 'coordinates': None, 'place': None, 'contributors': None, 'is_quote_status': True, 'quoted_status_id': 973692974038179840, 'quoted_status_id_str': '973692974038179840', 'retweet_count': 3, 'favorite_count': 5, 'favorited': False, 'retweeted': False, 'possibly_sensitive': False, 'lang': 'en'}, retweet_count=0, favorite_count=1, favorited=False, retweeted=False, possibly_sensitive=False, lang='en')"
      ]
     },
     "execution_count": 10,
     "metadata": {},
     "output_type": "execute_result"
    }
   ],
   "source": [
    "# print 1st search result to see what we have\n",
    "tweet = digitalgc_tweets[0]\n",
    "tweet "
   ]
  },
  {
   "cell_type": "markdown",
   "metadata": {
    "slideshow": {
     "slide_type": "slide"
    }
   },
   "source": [
    "# How do we just get the fields we're interested in?\n",
    "Look at the response object, which is documented in the [tweet data dictionary](https://developer.twitter.com/en/docs/tweets/data-dictionary/overview/tweet-object). I'm interested in:\n",
    "* created_at\n",
    "* text\n",
    "* retweet_count\n",
    "* favorite_count\n",
    "* user.name\n",
    "* user.screen_name"
   ]
  },
  {
   "cell_type": "code",
   "execution_count": 11,
   "metadata": {
    "slideshow": {
     "slide_type": "slide"
    }
   },
   "outputs": [
    {
     "name": "stdout",
     "output_type": "stream",
     "text": [
      "2018-03-14 14:41:36\n",
      "Wish I could go to the podcasting event but I'll be at a conference! Y'all should go and report back. #digitalgc… https://t.co/ljbk1sR8fm\n",
      "0\n",
      "1\n",
      "Christina Katopodis\n",
      "nemersonian\n"
     ]
    }
   ],
   "source": [
    "# these are attributes of our tweet\n",
    "print(tweet.created_at)\n",
    "print(tweet.text)\n",
    "print(tweet.retweet_count)\n",
    "print(tweet.favorite_count)\n",
    "print(tweet.user.name)\n",
    "print(tweet.user.screen_name)"
   ]
  },
  {
   "cell_type": "code",
   "execution_count": 13,
   "metadata": {
    "slideshow": {
     "slide_type": "slide"
    }
   },
   "outputs": [],
   "source": [
    "# lets extract and store that information from all the tweets\n",
    "# We're using Python dictionaries so as to retain the info about which field was parsed\n",
    "tweet_list = []\n",
    "for tweet in digitalgc_tweets:\n",
    "    td = dict()\n",
    "    td['created'] = tweet.created_at\n",
    "    td['text'] = tweet.text\n",
    "    td['retweets'] = tweet.retweet_count\n",
    "    td['favorites'] = tweet.favorite_count\n",
    "    td['user'] = tweet.user.name\n",
    "    tweet_list.append(td)"
   ]
  },
  {
   "cell_type": "code",
   "execution_count": 14,
   "metadata": {
    "slideshow": {
     "slide_type": "slide"
    }
   },
   "outputs": [
    {
     "name": "stdout",
     "output_type": "stream",
     "text": [
      "<class 'pandas.core.frame.DataFrame'>\n",
      "RangeIndex: 53 entries, 0 to 52\n",
      "Data columns (total 5 columns):\n",
      "created      53 non-null datetime64[ns]\n",
      "favorites    53 non-null int64\n",
      "retweets     53 non-null int64\n",
      "text         53 non-null object\n",
      "user         53 non-null object\n",
      "dtypes: datetime64[ns](1), int64(2), object(2)\n",
      "memory usage: 2.1+ KB\n"
     ]
    }
   ],
   "source": [
    "# lets turn that list into a spreadsheet\n",
    "import pandas as pd\n",
    "\n",
    "tweets = pd.DataFrame(tweet_list)\n",
    "tweets.info()"
   ]
  },
  {
   "cell_type": "code",
   "execution_count": 15,
   "metadata": {
    "slideshow": {
     "slide_type": "slide"
    }
   },
   "outputs": [
    {
     "data": {
      "text/html": [
       "<div>\n",
       "<style scoped>\n",
       "    .dataframe tbody tr th:only-of-type {\n",
       "        vertical-align: middle;\n",
       "    }\n",
       "\n",
       "    .dataframe tbody tr th {\n",
       "        vertical-align: top;\n",
       "    }\n",
       "\n",
       "    .dataframe thead th {\n",
       "        text-align: right;\n",
       "    }\n",
       "</style>\n",
       "<table border=\"1\" class=\"dataframe\">\n",
       "  <thead>\n",
       "    <tr style=\"text-align: right;\">\n",
       "      <th></th>\n",
       "      <th>created</th>\n",
       "      <th>favorites</th>\n",
       "      <th>retweets</th>\n",
       "      <th>text</th>\n",
       "      <th>user</th>\n",
       "    </tr>\n",
       "  </thead>\n",
       "  <tbody>\n",
       "    <tr>\n",
       "      <th>0</th>\n",
       "      <td>2018-03-14 14:41:36</td>\n",
       "      <td>1</td>\n",
       "      <td>0</td>\n",
       "      <td>Wish I could go to the podcasting event but I'...</td>\n",
       "      <td>Christina Katopodis</td>\n",
       "    </tr>\n",
       "    <tr>\n",
       "      <th>1</th>\n",
       "      <td>2018-03-14 13:12:37</td>\n",
       "      <td>0</td>\n",
       "      <td>3</td>\n",
       "      <td>RT @nemersonian: Folks introduce themselves at...</td>\n",
       "      <td>Lisa Marie Rhody</td>\n",
       "    </tr>\n",
       "    <tr>\n",
       "      <th>2</th>\n",
       "      <td>2018-03-14 12:05:03</td>\n",
       "      <td>0</td>\n",
       "      <td>3</td>\n",
       "      <td>RT @jojokarlin: Don't miss @psmyth01's new blo...</td>\n",
       "      <td>Christina Katopodis</td>\n",
       "    </tr>\n",
       "    <tr>\n",
       "      <th>3</th>\n",
       "      <td>2018-03-14 03:30:39</td>\n",
       "      <td>0</td>\n",
       "      <td>12</td>\n",
       "      <td>RT @psmfCUNY: Join us for an interdisciplinary...</td>\n",
       "      <td>GC LAILAC</td>\n",
       "    </tr>\n",
       "    <tr>\n",
       "      <th>4</th>\n",
       "      <td>2018-03-14 02:41:32</td>\n",
       "      <td>0</td>\n",
       "      <td>3</td>\n",
       "      <td>RT @jojokarlin: Don't miss @psmyth01's new blo...</td>\n",
       "      <td>Stephen Zweibel</td>\n",
       "    </tr>\n",
       "  </tbody>\n",
       "</table>\n",
       "</div>"
      ],
      "text/plain": [
       "              created  favorites  retweets  \\\n",
       "0 2018-03-14 14:41:36          1         0   \n",
       "1 2018-03-14 13:12:37          0         3   \n",
       "2 2018-03-14 12:05:03          0         3   \n",
       "3 2018-03-14 03:30:39          0        12   \n",
       "4 2018-03-14 02:41:32          0         3   \n",
       "\n",
       "                                                text                 user  \n",
       "0  Wish I could go to the podcasting event but I'...  Christina Katopodis  \n",
       "1  RT @nemersonian: Folks introduce themselves at...     Lisa Marie Rhody  \n",
       "2  RT @jojokarlin: Don't miss @psmyth01's new blo...  Christina Katopodis  \n",
       "3  RT @psmfCUNY: Join us for an interdisciplinary...            GC LAILAC  \n",
       "4  RT @jojokarlin: Don't miss @psmyth01's new blo...      Stephen Zweibel  "
      ]
     },
     "execution_count": 15,
     "metadata": {},
     "output_type": "execute_result"
    }
   ],
   "source": [
    "#lets look at the first 5\n",
    "tweets.head()"
   ]
  },
  {
   "cell_type": "code",
   "execution_count": 16,
   "metadata": {
    "slideshow": {
     "slide_type": "slide"
    }
   },
   "outputs": [
    {
     "data": {
      "text/html": [
       "<div>\n",
       "<style scoped>\n",
       "    .dataframe tbody tr th:only-of-type {\n",
       "        vertical-align: middle;\n",
       "    }\n",
       "\n",
       "    .dataframe tbody tr th {\n",
       "        vertical-align: top;\n",
       "    }\n",
       "\n",
       "    .dataframe thead th {\n",
       "        text-align: right;\n",
       "    }\n",
       "</style>\n",
       "<table border=\"1\" class=\"dataframe\">\n",
       "  <thead>\n",
       "    <tr style=\"text-align: right;\">\n",
       "      <th></th>\n",
       "      <th>created</th>\n",
       "      <th>favorites</th>\n",
       "      <th>retweets</th>\n",
       "      <th>text</th>\n",
       "      <th>user</th>\n",
       "    </tr>\n",
       "  </thead>\n",
       "  <tbody>\n",
       "    <tr>\n",
       "      <th>18</th>\n",
       "      <td>2018-03-13 19:41:40</td>\n",
       "      <td>0</td>\n",
       "      <td>12</td>\n",
       "      <td>RT @psmfCUNY: Join us for an interdisciplinary...</td>\n",
       "      <td>Humanities Center GC</td>\n",
       "    </tr>\n",
       "    <tr>\n",
       "      <th>17</th>\n",
       "      <td>2018-03-13 19:45:48</td>\n",
       "      <td>0</td>\n",
       "      <td>12</td>\n",
       "      <td>RT @psmfCUNY: Join us for an interdisciplinary...</td>\n",
       "      <td>Alise Tifentale</td>\n",
       "    </tr>\n",
       "    <tr>\n",
       "      <th>15</th>\n",
       "      <td>2018-03-13 20:30:14</td>\n",
       "      <td>0</td>\n",
       "      <td>12</td>\n",
       "      <td>RT @psmfCUNY: Join us for an interdisciplinary...</td>\n",
       "      <td>Danica Savonick</td>\n",
       "    </tr>\n",
       "    <tr>\n",
       "      <th>14</th>\n",
       "      <td>2018-03-13 20:43:47</td>\n",
       "      <td>0</td>\n",
       "      <td>12</td>\n",
       "      <td>RT @psmfCUNY: Join us for an interdisciplinary...</td>\n",
       "      <td>Gerry Martini</td>\n",
       "    </tr>\n",
       "    <tr>\n",
       "      <th>13</th>\n",
       "      <td>2018-03-13 21:24:57</td>\n",
       "      <td>0</td>\n",
       "      <td>12</td>\n",
       "      <td>RT @psmfCUNY: Join us for an interdisciplinary...</td>\n",
       "      <td>GC Art History</td>\n",
       "    </tr>\n",
       "  </tbody>\n",
       "</table>\n",
       "</div>"
      ],
      "text/plain": [
       "               created  favorites  retweets  \\\n",
       "18 2018-03-13 19:41:40          0        12   \n",
       "17 2018-03-13 19:45:48          0        12   \n",
       "15 2018-03-13 20:30:14          0        12   \n",
       "14 2018-03-13 20:43:47          0        12   \n",
       "13 2018-03-13 21:24:57          0        12   \n",
       "\n",
       "                                                 text                  user  \n",
       "18  RT @psmfCUNY: Join us for an interdisciplinary...  Humanities Center GC  \n",
       "17  RT @psmfCUNY: Join us for an interdisciplinary...       Alise Tifentale  \n",
       "15  RT @psmfCUNY: Join us for an interdisciplinary...       Danica Savonick  \n",
       "14  RT @psmfCUNY: Join us for an interdisciplinary...         Gerry Martini  \n",
       "13  RT @psmfCUNY: Join us for an interdisciplinary...        GC Art History  "
      ]
     },
     "execution_count": 16,
     "metadata": {},
     "output_type": "execute_result"
    }
   ],
   "source": [
    "# lets find the most retweeted tweet\n",
    "tweets.sort_values(by=\"retweets\", ascending=False).head()"
   ]
  },
  {
   "cell_type": "code",
   "execution_count": null,
   "metadata": {
    "slideshow": {
     "slide_type": "slide"
    }
   },
   "outputs": [],
   "source": [
    "# What if the data had more than a 100 results?\n",
    "# need cursor to do paging to go further back - plus API has limits \n",
    "tweet_list = []\n",
    "for tweet in tweepy.Cursor(api.search, q=\"#digitalgc\", lang=\"en\", count=100, since=\"2018-01-01\").items():\n",
    "    td = dict()\n",
    "    td['created'] = tweet.created_at\n",
    "    td['text'] = tweet.text\n",
    "    td['retweets'] = tweet.retweet_count\n",
    "    td['favorites'] = tweet.favorite_count\n",
    "    td['user'] = tweet.user.name\n",
    "    tweet_list.append(td)\n",
    "    \n",
    "tweets = pd.DataFrame(tweet_list)\n",
    "#let's save our results\n",
    "tweets.to_csv(\"digitalgc_tweets.csv\")"
   ]
  },
  {
   "cell_type": "markdown",
   "metadata": {
    "slideshow": {
     "slide_type": "slide"
    }
   },
   "source": [
    "# Now try with a hashtag that interests you"
   ]
  },
  {
   "cell_type": "markdown",
   "metadata": {
    "slideshow": {
     "slide_type": "slide"
    }
   },
   "source": [
    "# What if we want results that are older than a week?\n",
    "The twitter API only lets you obtain tweets from the last week, so anything older requires the use of a scraping library. This one is already built and fairly robust:\n",
    "* https://github.com/jonbakerfish/TweetScraper"
   ]
  },
  {
   "cell_type": "code",
   "execution_count": null,
   "metadata": {},
   "outputs": [],
   "source": []
  }
 ],
 "metadata": {
  "celltoolbar": "Slideshow",
  "kernelspec": {
   "display_name": "Python 3",
   "language": "python",
   "name": "python3"
  },
  "language_info": {
   "codemirror_mode": {
    "name": "ipython",
    "version": 3
   },
   "file_extension": ".py",
   "mimetype": "text/x-python",
   "name": "python",
   "nbconvert_exporter": "python",
   "pygments_lexer": "ipython3",
   "version": "3.7.2"
  },
  "varInspector": {
   "cols": {
    "lenName": 16,
    "lenType": 16,
    "lenVar": 40
   },
   "kernels_config": {
    "python": {
     "delete_cmd_postfix": "",
     "delete_cmd_prefix": "del ",
     "library": "var_list.py",
     "varRefreshCmd": "print(var_dic_list())"
    },
    "r": {
     "delete_cmd_postfix": ") ",
     "delete_cmd_prefix": "rm(",
     "library": "var_list.r",
     "varRefreshCmd": "cat(var_dic_list()) "
    }
   },
   "types_to_exclude": [
    "module",
    "function",
    "builtin_function_or_method",
    "instance",
    "_Feature"
   ],
   "window_display": false
  }
 },
 "nbformat": 4,
 "nbformat_minor": 2
}
