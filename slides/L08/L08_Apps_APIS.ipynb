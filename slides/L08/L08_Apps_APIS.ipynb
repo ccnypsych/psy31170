{
 "cells": [
  {
   "cell_type": "markdown",
   "metadata": {
    "slideshow": {
     "slide_type": "slide"
    }
   },
   "source": [
    "# Apps & APIs\n",
    "* Apps: web applications (user level programs)\n",
    "* APIs: Application Programming Interface"
   ]
  },
  {
   "cell_type": "markdown",
   "metadata": {
    "slideshow": {
     "slide_type": "slide"
    }
   },
   "source": [
    "# How does the internet work?\n",
    "\n",
    "![](figs/subway.jpg)"
   ]
  },
  {
   "cell_type": "markdown",
   "metadata": {
    "slideshow": {
     "slide_type": "slide"
    }
   },
   "source": [
    "# API\n",
    "![subway menu](figs/subwayapi.png)"
   ]
  },
  {
   "cell_type": "markdown",
   "metadata": {
    "slideshow": {
     "slide_type": "slide"
    }
   },
   "source": [
    "# How do we order from computers? \n",
    "* [Hypertext Transfer Protocol (HTTP/1.1)](https://tools.ietf.org/html/rfc7231)\n",
    "* [HTTP overview](https://developer.mozilla.org/en-US/docs/Web/HTTP/Overview)\n"
   ]
  },
  {
   "cell_type": "markdown",
   "metadata": {
    "slideshow": {
     "slide_type": "slide"
    }
   },
   "source": [
    "# Client makes HTTP Request\n",
    "![](figs/subway_rr.jpg)"
   ]
  },
  {
   "cell_type": "markdown",
   "metadata": {
    "slideshow": {
     "slide_type": "slide"
    }
   },
   "source": [
    "# HTTP Request Methods\n",
    "\n",
    "* __GET:__ Retrieve information/resources from the server \n",
    "* __HEAD:__ Same as GET, but only retrieve status and header section \n",
    "* __POST:__ Send information to the server (create new resources) \n",
    "* __PUT:__ Update existing information on the server \n",
    "* __DELETE:__ Remove information  from the server  \n"
   ]
  },
  {
   "cell_type": "markdown",
   "metadata": {
    "slideshow": {
     "slide_type": "slide"
    }
   },
   "source": [
    "# Server sends HTTP Response\n",
    "![](figs/subway_rr2.jpg)"
   ]
  },
  {
   "cell_type": "markdown",
   "metadata": {
    "slideshow": {
     "slide_type": "slide"
    }
   },
   "source": [
    "# HTTP response status codes \n",
    "* __1xx (Informational):__ The request was received, continuing process\n",
    "* __2xx (Successful):__ The request was successfully received, understood, and accepted\n",
    "* __3xx (Redirection):__ Further action needs to be taken in order to complete the request\n",
    "* __4xx (Client Error):__ The request contains bad syntax or cannot be fulfilled\n",
    "* __5xx (Server Error):__ The server failed to fulfill an apparently valid request\n"
   ]
  },
  {
   "cell_type": "markdown",
   "metadata": {
    "slideshow": {
     "slide_type": "slide"
    }
   },
   "source": [
    "# How do we make an app? [Flask](http://flask.pocoo.org/)\n",
    "```python\n",
    "from flask import Flask\n",
    "app = Flask(__name__)\n",
    "\n",
    "@app.route(\"/\")\n",
    "def hello():\n",
    "    return \"Hello World!\"\n",
    "```"
   ]
  },
  {
   "cell_type": "markdown",
   "metadata": {
    "slideshow": {
     "slide_type": "skip"
    }
   },
   "source": [
    "Frameworks are scaffolding other people wrote to make webapps. In this class, we will use [flask](http://flask.pocoo.org/) because it is designed for small-midsized apps. There are a number of frameworks well suited for different tasks. To build a web app, we need to work in the terminal and use a text file. "
   ]
  },
  {
   "cell_type": "markdown",
   "metadata": {
    "slideshow": {
     "slide_type": "slide"
    }
   },
   "source": [
    "# How do we run the app?\n",
    "1. type into terminal\n",
    "```bash\n",
    "FLASK_APP=hello.py flask run\n",
    "```\n",
    "2. open web browser to url listed in output\n"
   ]
  },
  {
   "cell_type": "markdown",
   "metadata": {
    "slideshow": {
     "slide_type": "slide"
    }
   },
   "source": [
    "# Let's have the app be responsive:\n",
    "```python\n",
    "from flask import Flask\n",
    "app = Flask(__name__)\n",
    "\n",
    "@app.route(\"/<name>\")\n",
    "def hello_name(name):\n",
    "    return f\"Hello <name>!\"\n",
    "```\n"
   ]
  },
  {
   "cell_type": "markdown",
   "metadata": {
    "slideshow": {
     "slide_type": "slide"
    }
   },
   "source": [
    "# Let's auto reload\n",
    "```bash\n",
    "export FLASK_APP=my_application\n",
    "export FLASK_DEBUG=1\n",
    "flask run\n",
    "```"
   ]
  },
  {
   "cell_type": "markdown",
   "metadata": {
    "slideshow": {
     "slide_type": "slide"
    }
   },
   "source": [
    "# Project: Magic 8 Ball\n",
    "Our magic 8 ball app has a text file (magic.txt) that contains a list of phrases. The magic 8 ball will randomly select one of these phrases and print it to screen. \n",
    "\n",
    "The magic 8 ball app with two routes:\n",
    "\n",
    "1. `/magic`\n",
    "        Randomly select and print a phrase from magic.txt\n",
    "1. `/magic/<new_phrase_is_great>`\n",
    "        Append the new phrase to magic.txt\n"
   ]
  },
  {
   "cell_type": "code",
   "execution_count": null,
   "metadata": {},
   "outputs": [],
   "source": []
  }
 ],
 "metadata": {
  "celltoolbar": "Slideshow",
  "kernelspec": {
   "display_name": "Python 3",
   "language": "python",
   "name": "python3"
  },
  "language_info": {
   "codemirror_mode": {
    "name": "ipython",
    "version": 3
   },
   "file_extension": ".py",
   "mimetype": "text/x-python",
   "name": "python",
   "nbconvert_exporter": "python",
   "pygments_lexer": "ipython3",
   "version": "3.7.2"
  },
  "latex_envs": {
   "LaTeX_envs_menu_present": true,
   "autoclose": false,
   "autocomplete": true,
   "bibliofile": "biblio.bib",
   "cite_by": "apalike",
   "current_citInitial": 1,
   "eqLabelWithNumbers": true,
   "eqNumInitial": 1,
   "hotkeys": {
    "equation": "Ctrl-E",
    "itemize": "Ctrl-I"
   },
   "labels_anchors": false,
   "latex_user_defs": false,
   "report_style_numbering": false,
   "user_envs_cfg": false
  },
  "varInspector": {
   "cols": {
    "lenName": 16,
    "lenType": 16,
    "lenVar": 40
   },
   "kernels_config": {
    "python": {
     "delete_cmd_postfix": "",
     "delete_cmd_prefix": "del ",
     "library": "var_list.py",
     "varRefreshCmd": "print(var_dic_list())"
    },
    "r": {
     "delete_cmd_postfix": ") ",
     "delete_cmd_prefix": "rm(",
     "library": "var_list.r",
     "varRefreshCmd": "cat(var_dic_list()) "
    }
   },
   "types_to_exclude": [
    "module",
    "function",
    "builtin_function_or_method",
    "instance",
    "_Feature"
   ],
   "window_display": false
  }
 },
 "nbformat": 4,
 "nbformat_minor": 2
}
